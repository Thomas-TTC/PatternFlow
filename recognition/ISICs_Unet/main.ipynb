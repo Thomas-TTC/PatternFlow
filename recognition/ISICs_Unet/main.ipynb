{
  "nbformat": 4,
  "nbformat_minor": 0,
  "metadata": {
    "kernelspec": {
      "display_name": "Python 3",
      "language": "python",
      "name": "python3"
    },
    "language_info": {
      "codemirror_mode": {
        "name": "ipython",
        "version": 3
      },
      "file_extension": ".py",
      "mimetype": "text/x-python",
      "name": "python",
      "nbconvert_exporter": "python",
      "pygments_lexer": "ipython3",
      "version": "3.7.9"
    },
    "colab": {
      "name": "main_later.ipynb",
      "provenance": []
    }
  },
  "cells": [
    {
      "cell_type": "markdown",
      "metadata": {
        "id": "exvTnPhdgC_X"
      },
      "source": [
        "## Import"
      ]
    },
    {
      "cell_type": "code",
      "metadata": {
        "id": "ESrj8_mAgC_Z"
      },
      "source": [
        "import os\n",
        "\n",
        "# os.environ[\"CUDA_VISIBLE_DEVICES\"] = \"-1\""
      ],
      "execution_count": null,
      "outputs": []
    },
    {
      "cell_type": "code",
      "metadata": {
        "id": "Lca1oJuHgC_d",
        "outputId": "562332a4-8003-438d-d285-cb64e80db6a4"
      },
      "source": [
        "import tensorflow as tf\n",
        "print(tf.test.is_built_with_cuda())\n",
        "print(tf.config.list_physical_devices('GPU'))"
      ],
      "execution_count": null,
      "outputs": [
        {
          "output_type": "stream",
          "text": [
            "True\n",
            "[PhysicalDevice(name='/physical_device:GPU:0', device_type='GPU')]\n"
          ],
          "name": "stdout"
        }
      ]
    },
    {
      "cell_type": "code",
      "metadata": {
        "id": "Xn_d5FOCgC_h"
      },
      "source": [
        "import matplotlib.pyplot as plt\n",
        "import numpy as np\n",
        "import pandas as pd\n",
        "import os\n",
        "import shutil\n",
        "from sklearn.model_selection import KFold, StratifiedKFold, train_test_split\n",
        "from glob import glob"
      ],
      "execution_count": null,
      "outputs": []
    },
    {
      "cell_type": "code",
      "metadata": {
        "id": "JHBStz6xgC_l"
      },
      "source": [
        "import tensorflow as tf\n",
        "from tensorflow.keras.layers import *\n",
        "from tensorflow.keras.models import *\n",
        "from tensorflow.keras.optimizers import *\n",
        "from tensorflow.keras.callbacks import *\n",
        "from tensorflow.keras.preprocessing.image import ImageDataGenerator\n",
        "from tensorflow.keras import backend as K"
      ],
      "execution_count": null,
      "outputs": []
    },
    {
      "cell_type": "markdown",
      "metadata": {
        "id": "IN8j8DN3gC_p"
      },
      "source": [
        "## Setting"
      ]
    },
    {
      "cell_type": "code",
      "metadata": {
        "id": "IuHauvS-gC_q"
      },
      "source": [
        "IMG_WIDTH = 512\n",
        "IMG_HEIGHT = 384\n",
        "IMG_CHANNELS = 1\n",
        "SEG_IMG_CHANNELS = 2\n",
        "BATCH_SIZE = 2\n",
        "\n",
        "TRAIN_DATA_PATH = 'ISIC2018/' \n",
        "\n",
        "IMG_PATH = 'ISIC2018_Task1-2_Training_Input_x2'\n",
        "SEG_PATH = 'ISIC2018_Task1_Training_GroundTruth_x2'"
      ],
      "execution_count": null,
      "outputs": []
    },
    {
      "cell_type": "markdown",
      "metadata": {
        "id": "SzQgB_g7gC_t"
      },
      "source": [
        "## Loss"
      ]
    },
    {
      "cell_type": "code",
      "metadata": {
        "id": "PY7XKBrAgC_u"
      },
      "source": [
        "def dice_coef(y_true, y_pred):\n",
        "    smooth=1.0\n",
        "    intersection = K.sum(y_true * y_pred, axis=(1,2,3))\n",
        "    union = K.sum(y_true, axis=(1,2,3)) + K.sum(y_pred, axis=(1,2,3))\n",
        "    sample_dices=(2. * intersection + smooth) / (union + smooth)\n",
        "    dices=K.mean(sample_dices,axis=0)\n",
        "    return dices\n",
        " \n",
        "def dice_coef_loss(y_true,y_pred):\n",
        "    return 1-dice_coef(y_true=y_true,y_pred=y_pred)"
      ],
      "execution_count": null,
      "outputs": []
    },
    {
      "cell_type": "code",
      "metadata": {
        "id": "CqlstatLgC_x"
      },
      "source": [
        "y_pred = np.random.rand(4, 32, 32, 1)\n",
        "y_true = np.ones((4, 32, 32, 1))"
      ],
      "execution_count": null,
      "outputs": []
    },
    {
      "cell_type": "code",
      "metadata": {
        "id": "BpVB4y2lgC_2",
        "outputId": "bf1a7135-2b1c-47f3-d6f4-a35f58270127"
      },
      "source": [
        "dice_coef_loss(y_true, y_pred)"
      ],
      "execution_count": null,
      "outputs": [
        {
          "output_type": "execute_result",
          "data": {
            "text/plain": [
              "<tf.Tensor: shape=(), dtype=float64, numpy=0.3257006087529021>"
            ]
          },
          "metadata": {
            "tags": []
          },
          "execution_count": 60
        }
      ]
    },
    {
      "cell_type": "markdown",
      "metadata": {
        "id": "ZBkg6A8ygC_6"
      },
      "source": [
        "## UNet"
      ]
    },
    {
      "cell_type": "code",
      "metadata": {
        "id": "HDK-iGQVgC_7",
        "outputId": "8390b53b-44f7-4882-dcdc-ea3521db547f"
      },
      "source": [
        "def UNet(input_size=(256, 256, 1)):\n",
        "    inputs = Input(input_size)\n",
        "\n",
        "    c1 = Conv2D(16, (3, 3), activation='elu', kernel_initializer='he_normal', padding='same')(inputs)\n",
        "    c1 = Conv2D(16, (3, 3), activation='elu', kernel_initializer='he_normal', padding='same')(c1)\n",
        "    p1 = MaxPooling2D((2, 2))(c1)\n",
        "\n",
        "    c2 = Conv2D(32, (3, 3), activation='elu', kernel_initializer='he_normal', padding='same')(p1)\n",
        "    c2 = Conv2D(32, (3, 3), activation='elu', kernel_initializer='he_normal', padding='same')(c2)\n",
        "    p2 = MaxPooling2D((2, 2))(c2)\n",
        "\n",
        "    c3 = Conv2D(64, (3, 3), activation='elu', kernel_initializer='he_normal', padding='same')(p2)\n",
        "    c3 = Conv2D(64, (3, 3), activation='elu', kernel_initializer='he_normal', padding='same')(c3)\n",
        "    p3 = MaxPooling2D((2, 2))(c3)\n",
        "\n",
        "    c4 = Conv2D(128, (3, 3), activation='elu', kernel_initializer='he_normal', padding='same')(p3)\n",
        "    c4 = Conv2D(128, (3, 3), activation='elu', kernel_initializer='he_normal', padding='same')(c4)\n",
        "    p4 = MaxPooling2D(pool_size=(2, 2))(c4)\n",
        "\n",
        "    c5 = Conv2D(256, (3, 3), activation='elu', kernel_initializer='he_normal', padding='same')(p4)\n",
        "    c5 = Conv2D(256, (3, 3), activation='elu', kernel_initializer='he_normal', padding='same')(c5)\n",
        "\n",
        "    u6 = Conv2DTranspose(128, (2, 2), strides=(2, 2), padding='same')(c5)\n",
        "    u6 = concatenate([u6, c4])\n",
        "    c6 = Conv2D(128, (3, 3), activation='elu', kernel_initializer='he_normal', padding='same')(u6)\n",
        "    c6 = Conv2D(128, (3, 3), activation='elu', kernel_initializer='he_normal', padding='same')(c6)\n",
        "\n",
        "    u7 = Conv2DTranspose(64, (2, 2), strides=(2, 2), padding='same')(c6)\n",
        "    u7 = concatenate([u7, c3])\n",
        "    c7 = Conv2D(64, (3, 3), activation='elu', kernel_initializer='he_normal', padding='same')(u7)\n",
        "    c7 = Conv2D(64, (3, 3), activation='elu', kernel_initializer='he_normal', padding='same')(c7)\n",
        "\n",
        "    u8 = Conv2DTranspose(32, (2, 2), strides=(2, 2), padding='same')(c7)\n",
        "    u8 = concatenate([u8, c2])\n",
        "    c8 = Conv2D(32, (3, 3), activation='elu', kernel_initializer='he_normal', padding='same')(u8)\n",
        "    c8 = Conv2D(32, (3, 3), activation='elu', kernel_initializer='he_normal', padding='same')(c8)\n",
        "\n",
        "    u9 = Conv2DTranspose(16, (2, 2), strides=(2, 2), padding='same')(c8)\n",
        "    u9 = concatenate([u9, c1], axis=3)\n",
        "    c9 = Conv2D(16, (3, 3), activation='elu', kernel_initializer='he_normal', padding='same')(u9)\n",
        "    c9 = Conv2D(16, (3, 3), activation='elu', kernel_initializer='he_normal', padding='same')(c9)\n",
        "\n",
        "    outputs = Conv2D(1, (1, 1), activation='sigmoid')(c9)\n",
        "    model = Model(inputs=[inputs], outputs=[outputs])\n",
        "    model.compile(optimizer=Adam(lr=1e-4), loss=dice_coef_loss, metrics=['accuracy', dice_coef])\n",
        "    return model\n",
        "\n",
        "\n",
        "model = UNet((IMG_HEIGHT, IMG_WIDTH, IMG_CHANNELS))\n",
        "model.summary()"
      ],
      "execution_count": null,
      "outputs": [
        {
          "output_type": "stream",
          "text": [
            "Model: \"functional_5\"\n",
            "__________________________________________________________________________________________________\n",
            "Layer (type)                    Output Shape         Param #     Connected to                     \n",
            "==================================================================================================\n",
            "input_3 (InputLayer)            [(None, 384, 512, 1) 0                                            \n",
            "__________________________________________________________________________________________________\n",
            "conv2d_38 (Conv2D)              (None, 384, 512, 16) 160         input_3[0][0]                    \n",
            "__________________________________________________________________________________________________\n",
            "conv2d_39 (Conv2D)              (None, 384, 512, 16) 2320        conv2d_38[0][0]                  \n",
            "__________________________________________________________________________________________________\n",
            "max_pooling2d_8 (MaxPooling2D)  (None, 192, 256, 16) 0           conv2d_39[0][0]                  \n",
            "__________________________________________________________________________________________________\n",
            "conv2d_40 (Conv2D)              (None, 192, 256, 32) 4640        max_pooling2d_8[0][0]            \n",
            "__________________________________________________________________________________________________\n",
            "conv2d_41 (Conv2D)              (None, 192, 256, 32) 9248        conv2d_40[0][0]                  \n",
            "__________________________________________________________________________________________________\n",
            "max_pooling2d_9 (MaxPooling2D)  (None, 96, 128, 32)  0           conv2d_41[0][0]                  \n",
            "__________________________________________________________________________________________________\n",
            "conv2d_42 (Conv2D)              (None, 96, 128, 64)  18496       max_pooling2d_9[0][0]            \n",
            "__________________________________________________________________________________________________\n",
            "conv2d_43 (Conv2D)              (None, 96, 128, 64)  36928       conv2d_42[0][0]                  \n",
            "__________________________________________________________________________________________________\n",
            "max_pooling2d_10 (MaxPooling2D) (None, 48, 64, 64)   0           conv2d_43[0][0]                  \n",
            "__________________________________________________________________________________________________\n",
            "conv2d_44 (Conv2D)              (None, 48, 64, 128)  73856       max_pooling2d_10[0][0]           \n",
            "__________________________________________________________________________________________________\n",
            "conv2d_45 (Conv2D)              (None, 48, 64, 128)  147584      conv2d_44[0][0]                  \n",
            "__________________________________________________________________________________________________\n",
            "max_pooling2d_11 (MaxPooling2D) (None, 24, 32, 128)  0           conv2d_45[0][0]                  \n",
            "__________________________________________________________________________________________________\n",
            "conv2d_46 (Conv2D)              (None, 24, 32, 256)  295168      max_pooling2d_11[0][0]           \n",
            "__________________________________________________________________________________________________\n",
            "conv2d_47 (Conv2D)              (None, 24, 32, 256)  590080      conv2d_46[0][0]                  \n",
            "__________________________________________________________________________________________________\n",
            "conv2d_transpose_8 (Conv2DTrans (None, 48, 64, 128)  131200      conv2d_47[0][0]                  \n",
            "__________________________________________________________________________________________________\n",
            "concatenate_8 (Concatenate)     (None, 48, 64, 256)  0           conv2d_transpose_8[0][0]         \n",
            "                                                                 conv2d_45[0][0]                  \n",
            "__________________________________________________________________________________________________\n",
            "conv2d_48 (Conv2D)              (None, 48, 64, 128)  295040      concatenate_8[0][0]              \n",
            "__________________________________________________________________________________________________\n",
            "conv2d_49 (Conv2D)              (None, 48, 64, 128)  147584      conv2d_48[0][0]                  \n",
            "__________________________________________________________________________________________________\n",
            "conv2d_transpose_9 (Conv2DTrans (None, 96, 128, 64)  32832       conv2d_49[0][0]                  \n",
            "__________________________________________________________________________________________________\n",
            "concatenate_9 (Concatenate)     (None, 96, 128, 128) 0           conv2d_transpose_9[0][0]         \n",
            "                                                                 conv2d_43[0][0]                  \n",
            "__________________________________________________________________________________________________\n",
            "conv2d_50 (Conv2D)              (None, 96, 128, 64)  73792       concatenate_9[0][0]              \n",
            "__________________________________________________________________________________________________\n",
            "conv2d_51 (Conv2D)              (None, 96, 128, 64)  36928       conv2d_50[0][0]                  \n",
            "__________________________________________________________________________________________________\n",
            "conv2d_transpose_10 (Conv2DTran (None, 192, 256, 32) 8224        conv2d_51[0][0]                  \n",
            "__________________________________________________________________________________________________\n",
            "concatenate_10 (Concatenate)    (None, 192, 256, 64) 0           conv2d_transpose_10[0][0]        \n",
            "                                                                 conv2d_41[0][0]                  \n",
            "__________________________________________________________________________________________________\n",
            "conv2d_52 (Conv2D)              (None, 192, 256, 32) 18464       concatenate_10[0][0]             \n",
            "__________________________________________________________________________________________________\n",
            "conv2d_53 (Conv2D)              (None, 192, 256, 32) 9248        conv2d_52[0][0]                  \n",
            "__________________________________________________________________________________________________\n",
            "conv2d_transpose_11 (Conv2DTran (None, 384, 512, 16) 2064        conv2d_53[0][0]                  \n",
            "__________________________________________________________________________________________________\n",
            "concatenate_11 (Concatenate)    (None, 384, 512, 32) 0           conv2d_transpose_11[0][0]        \n",
            "                                                                 conv2d_39[0][0]                  \n",
            "__________________________________________________________________________________________________\n",
            "conv2d_54 (Conv2D)              (None, 384, 512, 16) 4624        concatenate_11[0][0]             \n",
            "__________________________________________________________________________________________________\n",
            "conv2d_55 (Conv2D)              (None, 384, 512, 16) 2320        conv2d_54[0][0]                  \n",
            "__________________________________________________________________________________________________\n",
            "conv2d_56 (Conv2D)              (None, 384, 512, 1)  17          conv2d_55[0][0]                  \n",
            "==================================================================================================\n",
            "Total params: 1,940,817\n",
            "Trainable params: 1,940,817\n",
            "Non-trainable params: 0\n",
            "__________________________________________________________________________________________________\n"
          ],
          "name": "stdout"
        }
      ]
    },
    {
      "cell_type": "markdown",
      "metadata": {
        "id": "DfIb5vT8gC_-"
      },
      "source": [
        "## Create dataset"
      ]
    },
    {
      "cell_type": "code",
      "metadata": {
        "id": "gj_3FWT4gC_-"
      },
      "source": [
        "train_images = sorted(glob(TRAIN_DATA_PATH + IMG_PATH + '/*.jpg'))\n",
        "train_labels = sorted(glob(TRAIN_DATA_PATH + SEG_PATH + '/*.png'))"
      ],
      "execution_count": null,
      "outputs": []
    },
    {
      "cell_type": "code",
      "metadata": {
        "id": "zfEgK8VvgDAB",
        "outputId": "79cebbeb-f4ed-49a6-f957-bff742ec4d09"
      },
      "source": [
        "print(len(train_images), len(train_labels))"
      ],
      "execution_count": null,
      "outputs": [
        {
          "output_type": "stream",
          "text": [
            "2594 2594\n"
          ],
          "name": "stdout"
        }
      ]
    },
    {
      "cell_type": "code",
      "metadata": {
        "id": "vdattGiagDAF"
      },
      "source": [
        "df = pd.DataFrame(columns=['image_path', 'label_path'])\n",
        "for img, label in zip(train_images, train_labels):\n",
        "    df = df.append({'image_path': os.path.basename(img), 'label_path': os.path.basename(label)}, ignore_index=True)"
      ],
      "execution_count": null,
      "outputs": []
    },
    {
      "cell_type": "code",
      "metadata": {
        "id": "37WuNbDlgDAI",
        "outputId": "33f0b5c7-de6e-429f-ebbe-3a6a95799d3c"
      },
      "source": [
        "df"
      ],
      "execution_count": null,
      "outputs": [
        {
          "output_type": "execute_result",
          "data": {
            "text/html": [
              "<div>\n",
              "<style scoped>\n",
              "    .dataframe tbody tr th:only-of-type {\n",
              "        vertical-align: middle;\n",
              "    }\n",
              "\n",
              "    .dataframe tbody tr th {\n",
              "        vertical-align: top;\n",
              "    }\n",
              "\n",
              "    .dataframe thead th {\n",
              "        text-align: right;\n",
              "    }\n",
              "</style>\n",
              "<table border=\"1\" class=\"dataframe\">\n",
              "  <thead>\n",
              "    <tr style=\"text-align: right;\">\n",
              "      <th></th>\n",
              "      <th>image_path</th>\n",
              "      <th>label_path</th>\n",
              "    </tr>\n",
              "  </thead>\n",
              "  <tbody>\n",
              "    <tr>\n",
              "      <th>0</th>\n",
              "      <td>ISIC_0000000.jpg</td>\n",
              "      <td>ISIC_0000000_segmentation.png</td>\n",
              "    </tr>\n",
              "    <tr>\n",
              "      <th>1</th>\n",
              "      <td>ISIC_0000001.jpg</td>\n",
              "      <td>ISIC_0000001_segmentation.png</td>\n",
              "    </tr>\n",
              "    <tr>\n",
              "      <th>2</th>\n",
              "      <td>ISIC_0000003.jpg</td>\n",
              "      <td>ISIC_0000003_segmentation.png</td>\n",
              "    </tr>\n",
              "    <tr>\n",
              "      <th>3</th>\n",
              "      <td>ISIC_0000004.jpg</td>\n",
              "      <td>ISIC_0000004_segmentation.png</td>\n",
              "    </tr>\n",
              "    <tr>\n",
              "      <th>4</th>\n",
              "      <td>ISIC_0000006.jpg</td>\n",
              "      <td>ISIC_0000006_segmentation.png</td>\n",
              "    </tr>\n",
              "    <tr>\n",
              "      <th>...</th>\n",
              "      <td>...</td>\n",
              "      <td>...</td>\n",
              "    </tr>\n",
              "    <tr>\n",
              "      <th>2589</th>\n",
              "      <td>ISIC_0016068.jpg</td>\n",
              "      <td>ISIC_0016068_segmentation.png</td>\n",
              "    </tr>\n",
              "    <tr>\n",
              "      <th>2590</th>\n",
              "      <td>ISIC_0016069.jpg</td>\n",
              "      <td>ISIC_0016069_segmentation.png</td>\n",
              "    </tr>\n",
              "    <tr>\n",
              "      <th>2591</th>\n",
              "      <td>ISIC_0016070.jpg</td>\n",
              "      <td>ISIC_0016070_segmentation.png</td>\n",
              "    </tr>\n",
              "    <tr>\n",
              "      <th>2592</th>\n",
              "      <td>ISIC_0016071.jpg</td>\n",
              "      <td>ISIC_0016071_segmentation.png</td>\n",
              "    </tr>\n",
              "    <tr>\n",
              "      <th>2593</th>\n",
              "      <td>ISIC_0016072.jpg</td>\n",
              "      <td>ISIC_0016072_segmentation.png</td>\n",
              "    </tr>\n",
              "  </tbody>\n",
              "</table>\n",
              "<p>2594 rows × 2 columns</p>\n",
              "</div>"
            ],
            "text/plain": [
              "            image_path                     label_path\n",
              "0     ISIC_0000000.jpg  ISIC_0000000_segmentation.png\n",
              "1     ISIC_0000001.jpg  ISIC_0000001_segmentation.png\n",
              "2     ISIC_0000003.jpg  ISIC_0000003_segmentation.png\n",
              "3     ISIC_0000004.jpg  ISIC_0000004_segmentation.png\n",
              "4     ISIC_0000006.jpg  ISIC_0000006_segmentation.png\n",
              "...                ...                            ...\n",
              "2589  ISIC_0016068.jpg  ISIC_0016068_segmentation.png\n",
              "2590  ISIC_0016069.jpg  ISIC_0016069_segmentation.png\n",
              "2591  ISIC_0016070.jpg  ISIC_0016070_segmentation.png\n",
              "2592  ISIC_0016071.jpg  ISIC_0016071_segmentation.png\n",
              "2593  ISIC_0016072.jpg  ISIC_0016072_segmentation.png\n",
              "\n",
              "[2594 rows x 2 columns]"
            ]
          },
          "metadata": {
            "tags": []
          },
          "execution_count": 65
        }
      ]
    },
    {
      "cell_type": "code",
      "metadata": {
        "id": "q1RnDnDFgDAR",
        "outputId": "9b0a09b0-5a27-4bd0-a884-3f0bd53999a8"
      },
      "source": [
        "random_state = 7\n",
        "kf = KFold(n_splits = 5, random_state = random_state, shuffle = True)\n",
        "\n",
        "\n",
        "train_data, test_data = train_test_split(df, test_size=0.2, random_state=random_state)\n",
        "print(len(train_data), len(test_data))"
      ],
      "execution_count": null,
      "outputs": [
        {
          "output_type": "stream",
          "text": [
            "2075 519\n"
          ],
          "name": "stdout"
        }
      ]
    },
    {
      "cell_type": "code",
      "metadata": {
        "id": "ddMVJK1kgDAU",
        "outputId": "49b66972-8bae-4840-e1bc-d098250f4bdc"
      },
      "source": [
        "n = len(train_data)\n",
        "folds = list(kf.split(np.zeros(n)))\n",
        "\n",
        "train_index, val_index = folds[0]\n",
        "training_data = train_data.iloc[train_index]\n",
        "validation_data = train_data.iloc[val_index]\n",
        "print(len(training_data), len(validation_data), len(test_data))"
      ],
      "execution_count": null,
      "outputs": [
        {
          "output_type": "stream",
          "text": [
            "1660 415 519\n"
          ],
          "name": "stdout"
        }
      ]
    },
    {
      "cell_type": "code",
      "metadata": {
        "id": "XOT0UupAgDAY",
        "outputId": "c8885f42-d3c0-4333-f8bc-ec6b94cf6ced"
      },
      "source": [
        "training_data[:5]"
      ],
      "execution_count": null,
      "outputs": [
        {
          "output_type": "execute_result",
          "data": {
            "text/html": [
              "<div>\n",
              "<style scoped>\n",
              "    .dataframe tbody tr th:only-of-type {\n",
              "        vertical-align: middle;\n",
              "    }\n",
              "\n",
              "    .dataframe tbody tr th {\n",
              "        vertical-align: top;\n",
              "    }\n",
              "\n",
              "    .dataframe thead th {\n",
              "        text-align: right;\n",
              "    }\n",
              "</style>\n",
              "<table border=\"1\" class=\"dataframe\">\n",
              "  <thead>\n",
              "    <tr style=\"text-align: right;\">\n",
              "      <th></th>\n",
              "      <th>image_path</th>\n",
              "      <th>label_path</th>\n",
              "    </tr>\n",
              "  </thead>\n",
              "  <tbody>\n",
              "    <tr>\n",
              "      <th>871</th>\n",
              "      <td>ISIC_0010264.jpg</td>\n",
              "      <td>ISIC_0010264_segmentation.png</td>\n",
              "    </tr>\n",
              "    <tr>\n",
              "      <th>1301</th>\n",
              "      <td>ISIC_0012442.jpg</td>\n",
              "      <td>ISIC_0012442_segmentation.png</td>\n",
              "    </tr>\n",
              "    <tr>\n",
              "      <th>1312</th>\n",
              "      <td>ISIC_0012478.jpg</td>\n",
              "      <td>ISIC_0012478_segmentation.png</td>\n",
              "    </tr>\n",
              "    <tr>\n",
              "      <th>367</th>\n",
              "      <td>ISIC_0000448.jpg</td>\n",
              "      <td>ISIC_0000448_segmentation.png</td>\n",
              "    </tr>\n",
              "    <tr>\n",
              "      <th>1481</th>\n",
              "      <td>ISIC_0013012.jpg</td>\n",
              "      <td>ISIC_0013012_segmentation.png</td>\n",
              "    </tr>\n",
              "  </tbody>\n",
              "</table>\n",
              "</div>"
            ],
            "text/plain": [
              "            image_path                     label_path\n",
              "871   ISIC_0010264.jpg  ISIC_0010264_segmentation.png\n",
              "1301  ISIC_0012442.jpg  ISIC_0012442_segmentation.png\n",
              "1312  ISIC_0012478.jpg  ISIC_0012478_segmentation.png\n",
              "367   ISIC_0000448.jpg  ISIC_0000448_segmentation.png\n",
              "1481  ISIC_0013012.jpg  ISIC_0013012_segmentation.png"
            ]
          },
          "metadata": {
            "tags": []
          },
          "execution_count": 68
        }
      ]
    },
    {
      "cell_type": "code",
      "metadata": {
        "id": "h0qyuGvhgDAb",
        "outputId": "7b047e85-c529-4a8a-b1c6-c0bf51b3fbd8"
      },
      "source": [
        "validation_data[:5]"
      ],
      "execution_count": null,
      "outputs": [
        {
          "output_type": "execute_result",
          "data": {
            "text/html": [
              "<div>\n",
              "<style scoped>\n",
              "    .dataframe tbody tr th:only-of-type {\n",
              "        vertical-align: middle;\n",
              "    }\n",
              "\n",
              "    .dataframe tbody tr th {\n",
              "        vertical-align: top;\n",
              "    }\n",
              "\n",
              "    .dataframe thead th {\n",
              "        text-align: right;\n",
              "    }\n",
              "</style>\n",
              "<table border=\"1\" class=\"dataframe\">\n",
              "  <thead>\n",
              "    <tr style=\"text-align: right;\">\n",
              "      <th></th>\n",
              "      <th>image_path</th>\n",
              "      <th>label_path</th>\n",
              "    </tr>\n",
              "  </thead>\n",
              "  <tbody>\n",
              "    <tr>\n",
              "      <th>1438</th>\n",
              "      <td>ISIC_0012880.jpg</td>\n",
              "      <td>ISIC_0012880_segmentation.png</td>\n",
              "    </tr>\n",
              "    <tr>\n",
              "      <th>838</th>\n",
              "      <td>ISIC_0010213.jpg</td>\n",
              "      <td>ISIC_0010213_segmentation.png</td>\n",
              "    </tr>\n",
              "    <tr>\n",
              "      <th>2208</th>\n",
              "      <td>ISIC_0014857.jpg</td>\n",
              "      <td>ISIC_0014857_segmentation.png</td>\n",
              "    </tr>\n",
              "    <tr>\n",
              "      <th>28</th>\n",
              "      <td>ISIC_0000031.jpg</td>\n",
              "      <td>ISIC_0000031_segmentation.png</td>\n",
              "    </tr>\n",
              "    <tr>\n",
              "      <th>947</th>\n",
              "      <td>ISIC_0010479.jpg</td>\n",
              "      <td>ISIC_0010479_segmentation.png</td>\n",
              "    </tr>\n",
              "  </tbody>\n",
              "</table>\n",
              "</div>"
            ],
            "text/plain": [
              "            image_path                     label_path\n",
              "1438  ISIC_0012880.jpg  ISIC_0012880_segmentation.png\n",
              "838   ISIC_0010213.jpg  ISIC_0010213_segmentation.png\n",
              "2208  ISIC_0014857.jpg  ISIC_0014857_segmentation.png\n",
              "28    ISIC_0000031.jpg  ISIC_0000031_segmentation.png\n",
              "947   ISIC_0010479.jpg  ISIC_0010479_segmentation.png"
            ]
          },
          "metadata": {
            "tags": []
          },
          "execution_count": 69
        }
      ]
    },
    {
      "cell_type": "code",
      "metadata": {
        "id": "eLHK_CVmgDAe",
        "outputId": "dc2eb8cc-5633-48fa-f8d8-de0233f14d50"
      },
      "source": [
        "test_data[:5]"
      ],
      "execution_count": null,
      "outputs": [
        {
          "output_type": "execute_result",
          "data": {
            "text/html": [
              "<div>\n",
              "<style scoped>\n",
              "    .dataframe tbody tr th:only-of-type {\n",
              "        vertical-align: middle;\n",
              "    }\n",
              "\n",
              "    .dataframe tbody tr th {\n",
              "        vertical-align: top;\n",
              "    }\n",
              "\n",
              "    .dataframe thead th {\n",
              "        text-align: right;\n",
              "    }\n",
              "</style>\n",
              "<table border=\"1\" class=\"dataframe\">\n",
              "  <thead>\n",
              "    <tr style=\"text-align: right;\">\n",
              "      <th></th>\n",
              "      <th>image_path</th>\n",
              "      <th>label_path</th>\n",
              "    </tr>\n",
              "  </thead>\n",
              "  <tbody>\n",
              "    <tr>\n",
              "      <th>2317</th>\n",
              "      <td>ISIC_0015062.jpg</td>\n",
              "      <td>ISIC_0015062_segmentation.png</td>\n",
              "    </tr>\n",
              "    <tr>\n",
              "      <th>2040</th>\n",
              "      <td>ISIC_0014537.jpg</td>\n",
              "      <td>ISIC_0014537_segmentation.png</td>\n",
              "    </tr>\n",
              "    <tr>\n",
              "      <th>536</th>\n",
              "      <td>ISIC_0002879.jpg</td>\n",
              "      <td>ISIC_0002879_segmentation.png</td>\n",
              "    </tr>\n",
              "    <tr>\n",
              "      <th>1880</th>\n",
              "      <td>ISIC_0014013.jpg</td>\n",
              "      <td>ISIC_0014013_segmentation.png</td>\n",
              "    </tr>\n",
              "    <tr>\n",
              "      <th>1976</th>\n",
              "      <td>ISIC_0014328.jpg</td>\n",
              "      <td>ISIC_0014328_segmentation.png</td>\n",
              "    </tr>\n",
              "  </tbody>\n",
              "</table>\n",
              "</div>"
            ],
            "text/plain": [
              "            image_path                     label_path\n",
              "2317  ISIC_0015062.jpg  ISIC_0015062_segmentation.png\n",
              "2040  ISIC_0014537.jpg  ISIC_0014537_segmentation.png\n",
              "536   ISIC_0002879.jpg  ISIC_0002879_segmentation.png\n",
              "1880  ISIC_0014013.jpg  ISIC_0014013_segmentation.png\n",
              "1976  ISIC_0014328.jpg  ISIC_0014328_segmentation.png"
            ]
          },
          "metadata": {
            "tags": []
          },
          "execution_count": 70
        }
      ]
    },
    {
      "cell_type": "markdown",
      "metadata": {
        "id": "bEitnZkngDAh"
      },
      "source": [
        "## Data Generator"
      ]
    },
    {
      "cell_type": "code",
      "metadata": {
        "id": "IwROJivegDAh",
        "outputId": "f31f641e-b6df-4661-9724-7151f699a0c2"
      },
      "source": [
        "data_gen_args = dict(\n",
        "    rescale=1./255,\n",
        "    rotation_range=45,\n",
        "    width_shift_range=0.1,\n",
        "    height_shift_range=0.1,\n",
        "    zoom_range=0.2\n",
        ")\n",
        "\n",
        "\n",
        "image_datagen = ImageDataGenerator(**data_gen_args)\n",
        "mask_datagen = ImageDataGenerator(**data_gen_args)\n",
        "\n",
        "train_img_generator = image_datagen.flow_from_dataframe(\n",
        "    training_data, \n",
        "    directory = TRAIN_DATA_PATH + IMG_PATH,\n",
        "    x_col = \"image_path\", \n",
        "    class_mode=None,\n",
        "    color_mode = 'grayscale',\n",
        "    target_size = (IMG_HEIGHT, IMG_WIDTH),\n",
        "    batch_size = BATCH_SIZE,\n",
        "    seed=1\n",
        ")\n",
        "train_mask_generator = image_datagen.flow_from_dataframe(\n",
        "    training_data, \n",
        "    directory = TRAIN_DATA_PATH + SEG_PATH,\n",
        "    x_col = \"label_path\", \n",
        "    class_mode=None,\n",
        "    color_mode = 'grayscale',\n",
        "    target_size = (IMG_HEIGHT, IMG_WIDTH),\n",
        "    batch_size = BATCH_SIZE,\n",
        "    seed=1\n",
        ")\n",
        "\n",
        "val_img_generator = image_datagen.flow_from_dataframe(\n",
        "    validation_data, \n",
        "    directory = TRAIN_DATA_PATH + IMG_PATH,\n",
        "    x_col = \"image_path\", \n",
        "    class_mode=None,\n",
        "    color_mode = 'grayscale',\n",
        "    target_size = (IMG_HEIGHT, IMG_WIDTH),\n",
        "    batch_size = BATCH_SIZE,\n",
        "    seed=1\n",
        ")\n",
        "val_mask_generator = image_datagen.flow_from_dataframe(\n",
        "    validation_data, \n",
        "    directory = TRAIN_DATA_PATH + SEG_PATH,\n",
        "    x_col = \"label_path\", \n",
        "    class_mode=None,\n",
        "    color_mode = 'grayscale',\n",
        "    target_size = (IMG_HEIGHT, IMG_WIDTH),\n",
        "    batch_size = BATCH_SIZE,\n",
        "    seed=1\n",
        ")\n",
        "\n",
        "\n",
        "image_datagen = ImageDataGenerator(rescale=1./255)\n",
        "mask_datagen = ImageDataGenerator(rescale=1./255)\n",
        "\n",
        "test_img_generator = image_datagen.flow_from_dataframe(\n",
        "    test_data, \n",
        "    directory = TRAIN_DATA_PATH + IMG_PATH,\n",
        "    x_col = \"image_path\", \n",
        "    class_mode=None,\n",
        "    color_mode = 'grayscale',\n",
        "    target_size = (IMG_HEIGHT, IMG_WIDTH),\n",
        "    batch_size = BATCH_SIZE,\n",
        "    seed=1\n",
        ")\n",
        "test_mask_generator = image_datagen.flow_from_dataframe(\n",
        "    test_data, \n",
        "    directory = TRAIN_DATA_PATH + SEG_PATH,\n",
        "    x_col = \"label_path\", \n",
        "    class_mode=None,\n",
        "    color_mode = 'grayscale',\n",
        "    target_size = (IMG_HEIGHT, IMG_WIDTH),\n",
        "    batch_size = BATCH_SIZE,\n",
        "    seed=1\n",
        ")\n",
        "\n",
        "def maskGenerator(img_generator, mask_generator):\n",
        "    for (img,mask) in zip(img_generator, mask_generator):\n",
        "        mask = (mask > 0.5).astype(np.float32)\n",
        "        yield (img,mask)\n",
        "\n",
        "train_generator = maskGenerator(train_img_generator, train_mask_generator)\n",
        "val_generator = maskGenerator(val_img_generator, val_mask_generator)\n",
        "test_generator = maskGenerator(test_img_generator, test_mask_generator)"
      ],
      "execution_count": null,
      "outputs": [
        {
          "output_type": "stream",
          "text": [
            "Found 1660 validated image filenames.\n",
            "Found 1660 validated image filenames.\n",
            "Found 415 validated image filenames.\n",
            "Found 415 validated image filenames.\n",
            "Found 519 validated image filenames.\n",
            "Found 519 validated image filenames.\n"
          ],
          "name": "stdout"
        }
      ]
    },
    {
      "cell_type": "markdown",
      "metadata": {
        "id": "NMHBHS1GgDAl"
      },
      "source": [
        "## Training"
      ]
    },
    {
      "cell_type": "code",
      "metadata": {
        "id": "ZGdhJXvmgDAl",
        "outputId": "cd8ed5a1-4111-413f-ad60-7ae2e207d446"
      },
      "source": [
        "model_checkpoint = ModelCheckpoint('unet.hdf5', monitor='loss',verbose=1, save_best_only=True)\n",
        "model.fit(train_generator,\n",
        "          batch_size=BATCH_SIZE,\n",
        "          steps_per_epoch=400,\n",
        "          epochs=20,\n",
        "          callbacks=[model_checkpoint],\n",
        "          validation_data=val_generator,\n",
        "          validation_steps=400,\n",
        "          validation_batch_size=BATCH_SIZE)"
      ],
      "execution_count": null,
      "outputs": [
        {
          "output_type": "stream",
          "text": [
            "Epoch 1/20\n",
            "400/400 [==============================] - ETA: 0s - loss: 0.5232 - accuracy: 0.6938 - dice_coef: 0.4768\n",
            "Epoch 00001: loss improved from inf to 0.52318, saving model to unet.hdf5\n",
            "400/400 [==============================] - 105s 263ms/step - loss: 0.5232 - accuracy: 0.6938 - dice_coef: 0.4768 - val_loss: 0.4163 - val_accuracy: 0.8129 - val_dice_coef: 0.5835\n",
            "Epoch 2/20\n",
            "400/400 [==============================] - ETA: 0s - loss: 0.4902 - accuracy: 0.6764 - dice_coef: 0.5098\n",
            "Epoch 00002: loss improved from 0.52318 to 0.49019, saving model to unet.hdf5\n",
            "400/400 [==============================] - 107s 268ms/step - loss: 0.4902 - accuracy: 0.6764 - dice_coef: 0.5098 - val_loss: 0.3931 - val_accuracy: 0.8692 - val_dice_coef: 0.6071\n",
            "Epoch 3/20\n",
            "400/400 [==============================] - ETA: 0s - loss: 0.3370 - accuracy: 0.8770 - dice_coef: 0.6630\n",
            "Epoch 00003: loss improved from 0.49019 to 0.33698, saving model to unet.hdf5\n",
            "400/400 [==============================] - 107s 266ms/step - loss: 0.3370 - accuracy: 0.8770 - dice_coef: 0.6630 - val_loss: 0.3137 - val_accuracy: 0.8847 - val_dice_coef: 0.6865\n",
            "Epoch 4/20\n",
            "400/400 [==============================] - ETA: 0s - loss: 0.3101 - accuracy: 0.8833 - dice_coef: 0.6899\n",
            "Epoch 00004: loss improved from 0.33698 to 0.31008, saving model to unet.hdf5\n",
            "400/400 [==============================] - 107s 268ms/step - loss: 0.3101 - accuracy: 0.8833 - dice_coef: 0.6899 - val_loss: 0.3244 - val_accuracy: 0.8749 - val_dice_coef: 0.6760\n",
            "Epoch 5/20\n",
            "400/400 [==============================] - ETA: 0s - loss: 0.2801 - accuracy: 0.8900 - dice_coef: 0.7199\n",
            "Epoch 00005: loss improved from 0.31008 to 0.28007, saving model to unet.hdf5\n",
            "400/400 [==============================] - 110s 276ms/step - loss: 0.2801 - accuracy: 0.8900 - dice_coef: 0.7199 - val_loss: 0.2935 - val_accuracy: 0.8938 - val_dice_coef: 0.7067\n",
            "Epoch 6/20\n",
            "400/400 [==============================] - ETA: 0s - loss: 0.2864 - accuracy: 0.8944 - dice_coef: 0.7136\n",
            "Epoch 00006: loss did not improve from 0.28007\n",
            "400/400 [==============================] - 106s 265ms/step - loss: 0.2864 - accuracy: 0.8944 - dice_coef: 0.7136 - val_loss: 0.2923 - val_accuracy: 0.8820 - val_dice_coef: 0.7077\n",
            "Epoch 7/20\n",
            "400/400 [==============================] - ETA: 0s - loss: 0.2896 - accuracy: 0.8924 - dice_coef: 0.7104\n",
            "Epoch 00007: loss did not improve from 0.28007\n",
            "400/400 [==============================] - 107s 269ms/step - loss: 0.2896 - accuracy: 0.8924 - dice_coef: 0.7104 - val_loss: 0.3278 - val_accuracy: 0.8783 - val_dice_coef: 0.6722\n",
            "Epoch 8/20\n",
            "400/400 [==============================] - ETA: 0s - loss: 0.2673 - accuracy: 0.8975 - dice_coef: 0.7327\n",
            "Epoch 00008: loss improved from 0.28007 to 0.26734, saving model to unet.hdf5\n",
            "400/400 [==============================] - 108s 270ms/step - loss: 0.2673 - accuracy: 0.8975 - dice_coef: 0.7327 - val_loss: 0.3132 - val_accuracy: 0.8878 - val_dice_coef: 0.6865\n",
            "Epoch 9/20\n",
            "400/400 [==============================] - ETA: 0s - loss: 0.2441 - accuracy: 0.9119 - dice_coef: 0.75 - ETA: 0s - loss: 0.2439 - accuracy: 0.9117 - dice_coef: 0.7561\n",
            "Epoch 00009: loss improved from 0.26734 to 0.24387, saving model to unet.hdf5\n",
            "400/400 [==============================] - 108s 271ms/step - loss: 0.2439 - accuracy: 0.9117 - dice_coef: 0.7561 - val_loss: 0.2753 - val_accuracy: 0.9051 - val_dice_coef: 0.7250\n",
            "Epoch 10/20\n",
            "400/400 [==============================] - ETA: 0s - loss: 0.2672 - accuracy: 0.9001 - dice_coef: 0.7328\n",
            "Epoch 00010: loss did not improve from 0.24387\n",
            "400/400 [==============================] - 108s 270ms/step - loss: 0.2672 - accuracy: 0.9001 - dice_coef: 0.7328 - val_loss: 0.2557 - val_accuracy: 0.9081 - val_dice_coef: 0.7438\n",
            "Epoch 11/20\n",
            "400/400 [==============================] - ETA: 0s - loss: 0.2537 - accuracy: 0.9051 - dice_coef: 0.7463\n",
            "Epoch 00011: loss did not improve from 0.24387\n",
            "400/400 [==============================] - 107s 267ms/step - loss: 0.2537 - accuracy: 0.9051 - dice_coef: 0.7463 - val_loss: 0.2608 - val_accuracy: 0.9131 - val_dice_coef: 0.7394\n",
            "Epoch 12/20\n",
            "400/400 [==============================] - ETA: 0s - loss: 0.2706 - accuracy: 0.8991 - dice_coef: 0.7294 ETA: 3s\n",
            "Epoch 00012: loss did not improve from 0.24387\n",
            "400/400 [==============================] - 108s 269ms/step - loss: 0.2706 - accuracy: 0.8991 - dice_coef: 0.7294 - val_loss: 0.2659 - val_accuracy: 0.8986 - val_dice_coef: 0.7337\n",
            "Epoch 13/20\n",
            "400/400 [==============================] - ETA: 0s - loss: 0.2471 - accuracy: 0.9127 - dice_coef: 0.7529\n",
            "Epoch 00013: loss did not improve from 0.24387\n",
            "400/400 [==============================] - 107s 268ms/step - loss: 0.2471 - accuracy: 0.9127 - dice_coef: 0.7529 - val_loss: 0.2335 - val_accuracy: 0.9186 - val_dice_coef: 0.7654\n",
            "Epoch 14/20\n",
            "400/400 [==============================] - ETA: 0s - loss: 0.2403 - accuracy: 0.9110 - dice_coef: 0.7597\n",
            "Epoch 00014: loss improved from 0.24387 to 0.24026, saving model to unet.hdf5\n",
            "400/400 [==============================] - 108s 270ms/step - loss: 0.2403 - accuracy: 0.9110 - dice_coef: 0.7597 - val_loss: 0.2308 - val_accuracy: 0.9177 - val_dice_coef: 0.7693\n",
            "Epoch 15/20\n",
            "400/400 [==============================] - ETA: 0s - loss: 0.2436 - accuracy: 0.9073 - dice_coef: 0.7564\n",
            "Epoch 00015: loss did not improve from 0.24026\n",
            "400/400 [==============================] - 109s 273ms/step - loss: 0.2436 - accuracy: 0.9073 - dice_coef: 0.7564 - val_loss: 0.3680 - val_accuracy: 0.8917 - val_dice_coef: 0.6324\n",
            "Epoch 16/20\n",
            "400/400 [==============================] - ETA: 0s - loss: 0.2258 - accuracy: 0.9159 - dice_coef: 0.7742\n",
            "Epoch 00016: loss improved from 0.24026 to 0.22578, saving model to unet.hdf5\n",
            "400/400 [==============================] - 109s 273ms/step - loss: 0.2258 - accuracy: 0.9159 - dice_coef: 0.7742 - val_loss: 0.2261 - val_accuracy: 0.9191 - val_dice_coef: 0.7735\n",
            "Epoch 17/20\n",
            "400/400 [==============================] - ETA: 0s - loss: 0.2231 - accuracy: 0.9151 - dice_coef: 0.7769\n",
            "Epoch 00017: loss improved from 0.22578 to 0.22311, saving model to unet.hdf5\n",
            "400/400 [==============================] - 105s 262ms/step - loss: 0.2231 - accuracy: 0.9151 - dice_coef: 0.7769 - val_loss: 0.2320 - val_accuracy: 0.9176 - val_dice_coef: 0.7684\n",
            "Epoch 18/20\n",
            "400/400 [==============================] - ETA: 0s - loss: 0.2369 - accuracy: 0.9150 - dice_coef: 0.7631\n",
            "Epoch 00018: loss did not improve from 0.22311\n",
            "400/400 [==============================] - 107s 268ms/step - loss: 0.2369 - accuracy: 0.9150 - dice_coef: 0.7631 - val_loss: 0.2483 - val_accuracy: 0.9140 - val_dice_coef: 0.7512\n",
            "Epoch 19/20\n",
            "400/400 [==============================] - ETA: 0s - loss: 0.2234 - accuracy: 0.9197 - dice_coef: 0.7766\n",
            "Epoch 00019: loss did not improve from 0.22311\n",
            "400/400 [==============================] - 108s 271ms/step - loss: 0.2234 - accuracy: 0.9197 - dice_coef: 0.7766 - val_loss: 0.2227 - val_accuracy: 0.9223 - val_dice_coef: 0.7776\n",
            "Epoch 20/20\n",
            "400/400 [==============================] - ETA: 0s - loss: 0.2299 - accuracy: 0.9171 - dice_coef: 0.7701\n",
            "Epoch 00020: loss did not improve from 0.22311\n",
            "400/400 [==============================] - 108s 271ms/step - loss: 0.2299 - accuracy: 0.9171 - dice_coef: 0.7701 - val_loss: 0.2209 - val_accuracy: 0.9250 - val_dice_coef: 0.7787\n"
          ],
          "name": "stdout"
        },
        {
          "output_type": "execute_result",
          "data": {
            "text/plain": [
              "<tensorflow.python.keras.callbacks.History at 0x14eb5fd2108>"
            ]
          },
          "metadata": {
            "tags": []
          },
          "execution_count": 72
        }
      ]
    },
    {
      "cell_type": "markdown",
      "metadata": {
        "id": "P12OTUtVgDAp"
      },
      "source": [
        "## Evaluation"
      ]
    },
    {
      "cell_type": "code",
      "metadata": {
        "id": "FqfeZsovgDAq",
        "outputId": "44d3245b-9f98-443e-d705-da39ef70a314"
      },
      "source": [
        "shutil.copy(\"unet.hdf5\", \"unet_bak.hdf5\")"
      ],
      "execution_count": null,
      "outputs": [
        {
          "output_type": "execute_result",
          "data": {
            "text/plain": [
              "'unet_bak.hdf5'"
            ]
          },
          "metadata": {
            "tags": []
          },
          "execution_count": 73
        }
      ]
    },
    {
      "cell_type": "code",
      "metadata": {
        "id": "pareZpSAgDAt"
      },
      "source": [
        "model.load_weights(\"unet.hdf5\")"
      ],
      "execution_count": null,
      "outputs": []
    },
    {
      "cell_type": "code",
      "metadata": {
        "id": "fpT3nx-zgDAv",
        "outputId": "7aab1eb3-6cad-4406-d7b5-ede2a9c057e4"
      },
      "source": [
        "results = model.evaluate(test_generator, \n",
        "                         verbose=1, \n",
        "                         steps=len(test_data) / BATCH_SIZE, \n",
        "                         return_dict=True)\n",
        "results"
      ],
      "execution_count": null,
      "outputs": [
        {
          "output_type": "stream",
          "text": [
            "260/259 [==============================] - 21s 82ms/step - loss: 0.2240 - accuracy: 0.9190 - dice_coef: 0.7763\n"
          ],
          "name": "stdout"
        },
        {
          "output_type": "execute_result",
          "data": {
            "text/plain": [
              "{'loss': 0.22397656738758087,\n",
              " 'accuracy': 0.9190005660057068,\n",
              " 'dice_coef': 0.7762969732284546}"
            ]
          },
          "metadata": {
            "tags": []
          },
          "execution_count": 75
        }
      ]
    },
    {
      "cell_type": "code",
      "metadata": {
        "id": "Y5BrZNTsgDAy",
        "outputId": "3efec111-5040-4eb7-a6c5-6cab0fed1918"
      },
      "source": [
        "print('Dice coefficient is', results['dice_coef'])"
      ],
      "execution_count": null,
      "outputs": [
        {
          "output_type": "stream",
          "text": [
            "Dice coefficient is 0.7762969732284546\n"
          ],
          "name": "stdout"
        }
      ]
    },
    {
      "cell_type": "markdown",
      "metadata": {
        "id": "sBb9XLrMgDA2"
      },
      "source": [
        "## Visualisation"
      ]
    },
    {
      "cell_type": "code",
      "metadata": {
        "id": "hs3Ds7HGgDA3"
      },
      "source": [
        "img, mask = next(test_generator)"
      ],
      "execution_count": null,
      "outputs": []
    },
    {
      "cell_type": "code",
      "metadata": {
        "id": "ccoDzm5fgDA6",
        "outputId": "2874fdf4-e95a-4bb6-b5b5-fd0f19704bb3"
      },
      "source": [
        "print(img.shape, mask.shape)"
      ],
      "execution_count": null,
      "outputs": [
        {
          "output_type": "stream",
          "text": [
            "(2, 384, 512, 1) (2, 384, 512, 1)\n"
          ],
          "name": "stdout"
        }
      ]
    },
    {
      "cell_type": "code",
      "metadata": {
        "id": "qsAJ1w_tgDA9"
      },
      "source": [
        "seg = (model.predict(img) > 0.5).astype(np.float32)"
      ],
      "execution_count": null,
      "outputs": []
    },
    {
      "cell_type": "code",
      "metadata": {
        "id": "cmccoP_3gDBA"
      },
      "source": [
        "batch_id = 0"
      ],
      "execution_count": null,
      "outputs": []
    },
    {
      "cell_type": "code",
      "metadata": {
        "id": "JIuHmv4igDBD",
        "outputId": "7fc25b97-ac22-4757-8822-122a491f38df"
      },
      "source": [
        "plt.imshow(seg[batch_id])\n",
        "plt.colorbar()"
      ],
      "execution_count": null,
      "outputs": [
        {
          "output_type": "execute_result",
          "data": {
            "text/plain": [
              "<matplotlib.colorbar.Colorbar at 0x14eb9dedac8>"
            ]
          },
          "metadata": {
            "tags": []
          },
          "execution_count": 81
        },
        {
          "output_type": "display_data",
          "data": {
            "image/png": "[encoded data removed]",
            "text/plain": [
              "<Figure size 432x288 with 2 Axes>"
            ]
          },
          "metadata": {
            "tags": [],
            "needs_background": "light"
          }
        }
      ]
    },
    {
      "cell_type": "code",
      "metadata": {
        "id": "EsjUTFPXgDBI",
        "outputId": "6bd58192-76a9-4cf1-cbd6-22171f12b44f"
      },
      "source": [
        "plt.imshow(img[batch_id])\n",
        "plt.colorbar()"
      ],
      "execution_count": null,
      "outputs": [
        {
          "output_type": "execute_result",
          "data": {
            "text/plain": [
              "<matplotlib.colorbar.Colorbar at 0x14d29050b88>"
            ]
          },
          "metadata": {
            "tags": []
          },
          "execution_count": 82
        },
        {
          "output_type": "display_data",
          "data": {
            "image/png": "[encoded data removed]",
            "text/plain": [
              "<Figure size 432x288 with 2 Axes>"
            ]
          },
          "metadata": {
            "tags": [],
            "needs_background": "light"
          }
        }
      ]
    },
    {
      "cell_type": "code",
      "metadata": {
        "id": "7uHLzWNzgDBL",
        "outputId": "ba9f5f2c-2223-4434-eafb-74d74a8f36c1"
      },
      "source": [
        "plt.imshow(mask[batch_id])\n",
        "plt.colorbar()"
      ],
      "execution_count": null,
      "outputs": [
        {
          "output_type": "execute_result",
          "data": {
            "text/plain": [
              "<matplotlib.colorbar.Colorbar at 0x14d2910b188>"
            ]
          },
          "metadata": {
            "tags": []
          },
          "execution_count": 83
        },
        {
          "output_type": "display_data",
          "data": {
            "image/png": "[encoded data removed]",
            "text/plain": [
              "<Figure size 432x288 with 2 Axes>"
            ]
          },
          "metadata": {
            "tags": [],
            "needs_background": "light"
          }
        }
      ]
    },
    {
      "cell_type": "code",
      "metadata": {
        "id": "1N2gr3xygDBN",
        "outputId": "ce4d4f6f-3716-4370-fab8-4a6c88a3f19f"
      },
      "source": [
        "inter = np.sum(seg[batch_id] * mask[batch_id])\n",
        "union = np.sum(seg[batch_id]) + np.sum(mask[batch_id])\n",
        "dice = (inter * 2) / union\n",
        "print(dice)"
      ],
      "execution_count": null,
      "outputs": [
        {
          "output_type": "stream",
          "text": [
            "0.9160099683437731\n"
          ],
          "name": "stdout"
        }
      ]
    },
    {
      "cell_type": "code",
      "metadata": {
        "id": "xnt2zvLzgDBQ"
      },
      "source": [
        ""
      ],
      "execution_count": null,
      "outputs": []
    }
  ]
}