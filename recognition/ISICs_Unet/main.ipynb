{
  "nbformat": 4,
  "nbformat_minor": 0,
  "metadata": {
    "kernelspec": {
      "display_name": "Python 3",
      "language": "python",
      "name": "python3"
    },
    "language_info": {
      "codemirror_mode": {
        "name": "ipython",
        "version": 3
      },
      "file_extension": ".py",
      "mimetype": "text/x-python",
      "name": "python",
      "nbconvert_exporter": "python",
      "pygments_lexer": "ipython3",
      "version": "3.7.9"
    },
    "colab": {
      "name": "main.ipynb",
      "provenance": []
    }
  },
  "cells": [
    {
      "cell_type": "markdown",
      "metadata": {
        "id": "er8oIGRH1LdX"
      },
      "source": [
        "## Import"
      ]
    },
    {
      "cell_type": "code",
      "metadata": {
        "id": "yZCFxVvv1LdX"
      },
      "source": [
        "import os\n",
        "\n",
        "# os.environ[\"CUDA_VISIBLE_DEVICES\"] = \"-1\""
      ],
      "execution_count": null,
      "outputs": []
    },
    {
      "cell_type": "code",
      "metadata": {
        "id": "8_4k-PEQ1Ldc",
        "outputId": "6a0eec20-68c5-4dac-f0fe-056c177eaa35"
      },
      "source": [
        "import tensorflow as tf\n",
        "print(tf.test.is_built_with_cuda())\n",
        "print(tf.config.list_physical_devices('GPU'))"
      ],
      "execution_count": null,
      "outputs": [
        {
          "output_type": "stream",
          "text": [
            "True\n",
            "[PhysicalDevice(name='/physical_device:GPU:0', device_type='GPU')]\n"
          ],
          "name": "stdout"
        }
      ]
    },
    {
      "cell_type": "code",
      "metadata": {
        "id": "Wipkzo851Ldh"
      },
      "source": [
        "import matplotlib.pyplot as plt\n",
        "import numpy as np\n",
        "import pandas as pd\n",
        "import os\n",
        "import shutil\n",
        "from sklearn.model_selection import KFold, StratifiedKFold, train_test_split\n",
        "from glob import glob"
      ],
      "execution_count": null,
      "outputs": []
    },
    {
      "cell_type": "code",
      "metadata": {
        "id": "86AROgl-1Ldl"
      },
      "source": [
        "import tensorflow as tf\n",
        "from tensorflow.keras.layers import *\n",
        "from tensorflow.keras.models import *\n",
        "from tensorflow.keras.optimizers import *\n",
        "from tensorflow.keras.callbacks import *\n",
        "from tensorflow.keras.preprocessing.image import ImageDataGenerator\n",
        "from tensorflow.keras import backend as K"
      ],
      "execution_count": null,
      "outputs": []
    },
    {
      "cell_type": "markdown",
      "metadata": {
        "id": "iMln-sUD1Ldo"
      },
      "source": [
        "## Setting"
      ]
    },
    {
      "cell_type": "code",
      "metadata": {
        "id": "HkPSOBIW1Ldp"
      },
      "source": [
        "IMG_WIDTH = 512\n",
        "IMG_HEIGHT = 384\n",
        "IMG_CHANNELS = 1\n",
        "SEG_IMG_CHANNELS = 2\n",
        "BATCH_SIZE = 2\n",
        "\n",
        "TRAIN_DATA_PATH = 'ISIC2018/' \n",
        "\n",
        "IMG_PATH = 'ISIC2018_Task1-2_Training_Input_x2'\n",
        "SEG_PATH = 'ISIC2018_Task1_Training_GroundTruth_x2'"
      ],
      "execution_count": null,
      "outputs": []
    },
    {
      "cell_type": "markdown",
      "metadata": {
        "id": "pGMoo29k1Lds"
      },
      "source": [
        "## Loss"
      ]
    },
    {
      "cell_type": "code",
      "metadata": {
        "id": "ulQAOfRo1Ldt"
      },
      "source": [
        "def dice_coef(y_true, y_pred):\n",
        "    smooth=1.0\n",
        "    intersection = K.sum(y_true * y_pred, axis=(1,2,3))\n",
        "    union = K.sum(y_true, axis=(1,2,3)) + K.sum(y_pred, axis=(1,2,3))\n",
        "    sample_dices=(2. * intersection + smooth) / (union + smooth)\n",
        "    dices=K.mean(sample_dices,axis=0)\n",
        "    return dices\n",
        " \n",
        "def dice_coef_loss(y_true,y_pred):\n",
        "    return 1-dice_coef(y_true=y_true,y_pred=y_pred)"
      ],
      "execution_count": null,
      "outputs": []
    },
    {
      "cell_type": "code",
      "metadata": {
        "id": "h1dL2QeL1Ld4"
      },
      "source": [
        "y_pred = np.random.rand(4, 32, 32, 1)\n",
        "y_true = np.ones((4, 32, 32, 1))"
      ],
      "execution_count": null,
      "outputs": []
    },
    {
      "cell_type": "code",
      "metadata": {
        "id": "v2UIHGHG1Ld7",
        "outputId": "a0727cc3-1ac2-407d-8fd8-088bda9cd13d"
      },
      "source": [
        "dice_coef_loss(y_true, y_pred)"
      ],
      "execution_count": null,
      "outputs": [
        {
          "output_type": "execute_result",
          "data": {
            "text/plain": [
              "<tf.Tensor: shape=(), dtype=float64, numpy=0.3341552013125515>"
            ]
          },
          "metadata": {
            "tags": []
          },
          "execution_count": 8
        }
      ]
    },
    {
      "cell_type": "markdown",
      "metadata": {
        "id": "i2nKqYb31Ld_"
      },
      "source": [
        "## UNet"
      ]
    },
    {
      "cell_type": "code",
      "metadata": {
        "id": "9431tHE91LeA",
        "outputId": "07ce24ae-d2ee-4d3f-d02b-842894847794"
      },
      "source": [
        "def UNet(input_size=(256, 256, 1)):\n",
        "    inputs = Input(input_size)\n",
        "\n",
        "    c1 = Conv2D(16, (3, 3), activation='elu', kernel_initializer='he_normal', padding='same')(inputs)\n",
        "    c1 = Conv2D(16, (3, 3), activation='elu', kernel_initializer='he_normal', padding='same')(c1)\n",
        "    p1 = MaxPooling2D((2, 2))(c1)\n",
        "\n",
        "    c2 = Conv2D(32, (3, 3), activation='elu', kernel_initializer='he_normal', padding='same')(p1)\n",
        "    c2 = Conv2D(32, (3, 3), activation='elu', kernel_initializer='he_normal', padding='same')(c2)\n",
        "    p2 = MaxPooling2D((2, 2))(c2)\n",
        "\n",
        "    c3 = Conv2D(64, (3, 3), activation='elu', kernel_initializer='he_normal', padding='same')(p2)\n",
        "    c3 = Conv2D(64, (3, 3), activation='elu', kernel_initializer='he_normal', padding='same')(c3)\n",
        "    p3 = MaxPooling2D((2, 2))(c3)\n",
        "\n",
        "    c4 = Conv2D(128, (3, 3), activation='elu', kernel_initializer='he_normal', padding='same')(p3)\n",
        "    c4 = Conv2D(128, (3, 3), activation='elu', kernel_initializer='he_normal', padding='same')(c4)\n",
        "    p4 = MaxPooling2D(pool_size=(2, 2))(c4)\n",
        "\n",
        "    c5 = Conv2D(256, (3, 3), activation='elu', kernel_initializer='he_normal', padding='same')(p4)\n",
        "    c5 = Conv2D(256, (3, 3), activation='elu', kernel_initializer='he_normal', padding='same')(c5)\n",
        "\n",
        "    u6 = Conv2DTranspose(128, (2, 2), strides=(2, 2), padding='same')(c5)\n",
        "    u6 = concatenate([u6, c4])\n",
        "    c6 = Conv2D(128, (3, 3), activation='elu', kernel_initializer='he_normal', padding='same')(u6)\n",
        "    c6 = Conv2D(128, (3, 3), activation='elu', kernel_initializer='he_normal', padding='same')(c6)\n",
        "\n",
        "    u7 = Conv2DTranspose(64, (2, 2), strides=(2, 2), padding='same')(c6)\n",
        "    u7 = concatenate([u7, c3])\n",
        "    c7 = Conv2D(64, (3, 3), activation='elu', kernel_initializer='he_normal', padding='same')(u7)\n",
        "    c7 = Conv2D(64, (3, 3), activation='elu', kernel_initializer='he_normal', padding='same')(c7)\n",
        "\n",
        "    u8 = Conv2DTranspose(32, (2, 2), strides=(2, 2), padding='same')(c7)\n",
        "    u8 = concatenate([u8, c2])\n",
        "    c8 = Conv2D(32, (3, 3), activation='elu', kernel_initializer='he_normal', padding='same')(u8)\n",
        "    c8 = Conv2D(32, (3, 3), activation='elu', kernel_initializer='he_normal', padding='same')(c8)\n",
        "\n",
        "    u9 = Conv2DTranspose(16, (2, 2), strides=(2, 2), padding='same')(c8)\n",
        "    u9 = concatenate([u9, c1], axis=3)\n",
        "    c9 = Conv2D(16, (3, 3), activation='elu', kernel_initializer='he_normal', padding='same')(u9)\n",
        "    c9 = Conv2D(16, (3, 3), activation='elu', kernel_initializer='he_normal', padding='same')(c9)\n",
        "\n",
        "    outputs = Conv2D(1, (1, 1), activation='sigmoid')(c9)\n",
        "    model = Model(inputs=[inputs], outputs=[outputs])\n",
        "    model.compile(optimizer=Adam(lr=1e-4), loss=dice_coef_loss, metrics=['accuracy', dice_coef])\n",
        "    return model\n",
        "\n",
        "\n",
        "model = UNet((IMG_HEIGHT, IMG_WIDTH, IMG_CHANNELS))\n",
        "model.summary()"
      ],
      "execution_count": null,
      "outputs": [
        {
          "output_type": "stream",
          "text": [
            "Model: \"functional_1\"\n",
            "__________________________________________________________________________________________________\n",
            "Layer (type)                    Output Shape         Param #     Connected to                     \n",
            "==================================================================================================\n",
            "input_1 (InputLayer)            [(None, 384, 512, 1) 0                                            \n",
            "__________________________________________________________________________________________________\n",
            "conv2d (Conv2D)                 (None, 384, 512, 16) 160         input_1[0][0]                    \n",
            "__________________________________________________________________________________________________\n",
            "conv2d_1 (Conv2D)               (None, 384, 512, 16) 2320        conv2d[0][0]                     \n",
            "__________________________________________________________________________________________________\n",
            "max_pooling2d (MaxPooling2D)    (None, 192, 256, 16) 0           conv2d_1[0][0]                   \n",
            "__________________________________________________________________________________________________\n",
            "conv2d_2 (Conv2D)               (None, 192, 256, 32) 4640        max_pooling2d[0][0]              \n",
            "__________________________________________________________________________________________________\n",
            "conv2d_3 (Conv2D)               (None, 192, 256, 32) 9248        conv2d_2[0][0]                   \n",
            "__________________________________________________________________________________________________\n",
            "max_pooling2d_1 (MaxPooling2D)  (None, 96, 128, 32)  0           conv2d_3[0][0]                   \n",
            "__________________________________________________________________________________________________\n",
            "conv2d_4 (Conv2D)               (None, 96, 128, 64)  18496       max_pooling2d_1[0][0]            \n",
            "__________________________________________________________________________________________________\n",
            "conv2d_5 (Conv2D)               (None, 96, 128, 64)  36928       conv2d_4[0][0]                   \n",
            "__________________________________________________________________________________________________\n",
            "max_pooling2d_2 (MaxPooling2D)  (None, 48, 64, 64)   0           conv2d_5[0][0]                   \n",
            "__________________________________________________________________________________________________\n",
            "conv2d_6 (Conv2D)               (None, 48, 64, 128)  73856       max_pooling2d_2[0][0]            \n",
            "__________________________________________________________________________________________________\n",
            "conv2d_7 (Conv2D)               (None, 48, 64, 128)  147584      conv2d_6[0][0]                   \n",
            "__________________________________________________________________________________________________\n",
            "max_pooling2d_3 (MaxPooling2D)  (None, 24, 32, 128)  0           conv2d_7[0][0]                   \n",
            "__________________________________________________________________________________________________\n",
            "conv2d_8 (Conv2D)               (None, 24, 32, 256)  295168      max_pooling2d_3[0][0]            \n",
            "__________________________________________________________________________________________________\n",
            "conv2d_9 (Conv2D)               (None, 24, 32, 256)  590080      conv2d_8[0][0]                   \n",
            "__________________________________________________________________________________________________\n",
            "conv2d_transpose (Conv2DTranspo (None, 48, 64, 128)  131200      conv2d_9[0][0]                   \n",
            "__________________________________________________________________________________________________\n",
            "concatenate (Concatenate)       (None, 48, 64, 256)  0           conv2d_transpose[0][0]           \n",
            "                                                                 conv2d_7[0][0]                   \n",
            "__________________________________________________________________________________________________\n",
            "conv2d_10 (Conv2D)              (None, 48, 64, 128)  295040      concatenate[0][0]                \n",
            "__________________________________________________________________________________________________\n",
            "conv2d_11 (Conv2D)              (None, 48, 64, 128)  147584      conv2d_10[0][0]                  \n",
            "__________________________________________________________________________________________________\n",
            "conv2d_transpose_1 (Conv2DTrans (None, 96, 128, 64)  32832       conv2d_11[0][0]                  \n",
            "__________________________________________________________________________________________________\n",
            "concatenate_1 (Concatenate)     (None, 96, 128, 128) 0           conv2d_transpose_1[0][0]         \n",
            "                                                                 conv2d_5[0][0]                   \n",
            "__________________________________________________________________________________________________\n",
            "conv2d_12 (Conv2D)              (None, 96, 128, 64)  73792       concatenate_1[0][0]              \n",
            "__________________________________________________________________________________________________\n",
            "conv2d_13 (Conv2D)              (None, 96, 128, 64)  36928       conv2d_12[0][0]                  \n",
            "__________________________________________________________________________________________________\n",
            "conv2d_transpose_2 (Conv2DTrans (None, 192, 256, 32) 8224        conv2d_13[0][0]                  \n",
            "__________________________________________________________________________________________________\n",
            "concatenate_2 (Concatenate)     (None, 192, 256, 64) 0           conv2d_transpose_2[0][0]         \n",
            "                                                                 conv2d_3[0][0]                   \n",
            "__________________________________________________________________________________________________\n",
            "conv2d_14 (Conv2D)              (None, 192, 256, 32) 18464       concatenate_2[0][0]              \n",
            "__________________________________________________________________________________________________\n",
            "conv2d_15 (Conv2D)              (None, 192, 256, 32) 9248        conv2d_14[0][0]                  \n",
            "__________________________________________________________________________________________________\n",
            "conv2d_transpose_3 (Conv2DTrans (None, 384, 512, 16) 2064        conv2d_15[0][0]                  \n",
            "__________________________________________________________________________________________________\n",
            "concatenate_3 (Concatenate)     (None, 384, 512, 32) 0           conv2d_transpose_3[0][0]         \n",
            "                                                                 conv2d_1[0][0]                   \n",
            "__________________________________________________________________________________________________\n",
            "conv2d_16 (Conv2D)              (None, 384, 512, 16) 4624        concatenate_3[0][0]              \n",
            "__________________________________________________________________________________________________\n",
            "conv2d_17 (Conv2D)              (None, 384, 512, 16) 2320        conv2d_16[0][0]                  \n",
            "__________________________________________________________________________________________________\n",
            "conv2d_18 (Conv2D)              (None, 384, 512, 1)  17          conv2d_17[0][0]                  \n",
            "==================================================================================================\n",
            "Total params: 1,940,817\n",
            "Trainable params: 1,940,817\n",
            "Non-trainable params: 0\n",
            "__________________________________________________________________________________________________\n"
          ],
          "name": "stdout"
        }
      ]
    },
    {
      "cell_type": "markdown",
      "metadata": {
        "id": "U56dGi1J1LeD"
      },
      "source": [
        "## Create dataset"
      ]
    },
    {
      "cell_type": "code",
      "metadata": {
        "id": "4hBNOyWf1LeE"
      },
      "source": [
        "train_images = sorted(glob(TRAIN_DATA_PATH + IMG_PATH + '/*.jpg'))\n",
        "train_labels = sorted(glob(TRAIN_DATA_PATH + SEG_PATH + '/*.png'))"
      ],
      "execution_count": null,
      "outputs": []
    },
    {
      "cell_type": "code",
      "metadata": {
        "id": "6BEIZtK-1LeH",
        "outputId": "7bb35b6d-cbd3-4369-a4f2-2dc6fff28bfc"
      },
      "source": [
        "print(len(train_images), len(train_labels))"
      ],
      "execution_count": null,
      "outputs": [
        {
          "output_type": "stream",
          "text": [
            "2594 2594\n"
          ],
          "name": "stdout"
        }
      ]
    },
    {
      "cell_type": "code",
      "metadata": {
        "id": "ixd0375b1LeL"
      },
      "source": [
        "df = pd.DataFrame(columns=['image_path', 'label_path'])\n",
        "for img, label in zip(train_images, train_labels):\n",
        "    df = df.append({'image_path': os.path.basename(img), 'label_path': os.path.basename(label)}, ignore_index=True)"
      ],
      "execution_count": null,
      "outputs": []
    },
    {
      "cell_type": "code",
      "metadata": {
        "id": "dk0hvinL1LeO",
        "outputId": "9c6b2f83-347d-495b-f850-ac4ebbab32aa"
      },
      "source": [
        "df"
      ],
      "execution_count": null,
      "outputs": [
        {
          "output_type": "execute_result",
          "data": {
            "text/html": [
              "<div>\n",
              "<style scoped>\n",
              "    .dataframe tbody tr th:only-of-type {\n",
              "        vertical-align: middle;\n",
              "    }\n",
              "\n",
              "    .dataframe tbody tr th {\n",
              "        vertical-align: top;\n",
              "    }\n",
              "\n",
              "    .dataframe thead th {\n",
              "        text-align: right;\n",
              "    }\n",
              "</style>\n",
              "<table border=\"1\" class=\"dataframe\">\n",
              "  <thead>\n",
              "    <tr style=\"text-align: right;\">\n",
              "      <th></th>\n",
              "      <th>image_path</th>\n",
              "      <th>label_path</th>\n",
              "    </tr>\n",
              "  </thead>\n",
              "  <tbody>\n",
              "    <tr>\n",
              "      <th>0</th>\n",
              "      <td>ISIC_0000000.jpg</td>\n",
              "      <td>ISIC_0000000_segmentation.png</td>\n",
              "    </tr>\n",
              "    <tr>\n",
              "      <th>1</th>\n",
              "      <td>ISIC_0000001.jpg</td>\n",
              "      <td>ISIC_0000001_segmentation.png</td>\n",
              "    </tr>\n",
              "    <tr>\n",
              "      <th>2</th>\n",
              "      <td>ISIC_0000003.jpg</td>\n",
              "      <td>ISIC_0000003_segmentation.png</td>\n",
              "    </tr>\n",
              "    <tr>\n",
              "      <th>3</th>\n",
              "      <td>ISIC_0000004.jpg</td>\n",
              "      <td>ISIC_0000004_segmentation.png</td>\n",
              "    </tr>\n",
              "    <tr>\n",
              "      <th>4</th>\n",
              "      <td>ISIC_0000006.jpg</td>\n",
              "      <td>ISIC_0000006_segmentation.png</td>\n",
              "    </tr>\n",
              "    <tr>\n",
              "      <th>...</th>\n",
              "      <td>...</td>\n",
              "      <td>...</td>\n",
              "    </tr>\n",
              "    <tr>\n",
              "      <th>2589</th>\n",
              "      <td>ISIC_0016068.jpg</td>\n",
              "      <td>ISIC_0016068_segmentation.png</td>\n",
              "    </tr>\n",
              "    <tr>\n",
              "      <th>2590</th>\n",
              "      <td>ISIC_0016069.jpg</td>\n",
              "      <td>ISIC_0016069_segmentation.png</td>\n",
              "    </tr>\n",
              "    <tr>\n",
              "      <th>2591</th>\n",
              "      <td>ISIC_0016070.jpg</td>\n",
              "      <td>ISIC_0016070_segmentation.png</td>\n",
              "    </tr>\n",
              "    <tr>\n",
              "      <th>2592</th>\n",
              "      <td>ISIC_0016071.jpg</td>\n",
              "      <td>ISIC_0016071_segmentation.png</td>\n",
              "    </tr>\n",
              "    <tr>\n",
              "      <th>2593</th>\n",
              "      <td>ISIC_0016072.jpg</td>\n",
              "      <td>ISIC_0016072_segmentation.png</td>\n",
              "    </tr>\n",
              "  </tbody>\n",
              "</table>\n",
              "<p>2594 rows × 2 columns</p>\n",
              "</div>"
            ],
            "text/plain": [
              "            image_path                     label_path\n",
              "0     ISIC_0000000.jpg  ISIC_0000000_segmentation.png\n",
              "1     ISIC_0000001.jpg  ISIC_0000001_segmentation.png\n",
              "2     ISIC_0000003.jpg  ISIC_0000003_segmentation.png\n",
              "3     ISIC_0000004.jpg  ISIC_0000004_segmentation.png\n",
              "4     ISIC_0000006.jpg  ISIC_0000006_segmentation.png\n",
              "...                ...                            ...\n",
              "2589  ISIC_0016068.jpg  ISIC_0016068_segmentation.png\n",
              "2590  ISIC_0016069.jpg  ISIC_0016069_segmentation.png\n",
              "2591  ISIC_0016070.jpg  ISIC_0016070_segmentation.png\n",
              "2592  ISIC_0016071.jpg  ISIC_0016071_segmentation.png\n",
              "2593  ISIC_0016072.jpg  ISIC_0016072_segmentation.png\n",
              "\n",
              "[2594 rows x 2 columns]"
            ]
          },
          "metadata": {
            "tags": []
          },
          "execution_count": 13
        }
      ]
    },
    {
      "cell_type": "code",
      "metadata": {
        "id": "OPvEOuS51LeS",
        "outputId": "b5759c19-7c5e-476f-c472-3588ac946ad4"
      },
      "source": [
        "random_state = 7\n",
        "kf = KFold(n_splits = 5, random_state = random_state, shuffle = True)\n",
        "\n",
        "\n",
        "train_data, test_data = train_test_split(df, test_size=0.2, random_state=random_state)\n",
        "print(len(train_data), len(test_data))"
      ],
      "execution_count": null,
      "outputs": [
        {
          "output_type": "stream",
          "text": [
            "2075 519\n"
          ],
          "name": "stdout"
        }
      ]
    },
    {
      "cell_type": "code",
      "metadata": {
        "id": "7AMAypbo1LeV",
        "outputId": "20965b7a-2d32-470a-b392-337d76c6e981"
      },
      "source": [
        "n = len(train_data)\n",
        "folds = list(kf.split(np.zeros(n)))\n",
        "\n",
        "train_index, val_index = folds[0]\n",
        "training_data = train_data.iloc[train_index]\n",
        "validation_data = train_data.iloc[val_index]\n",
        "print(len(training_data), len(validation_data), len(test_data))"
      ],
      "execution_count": null,
      "outputs": [
        {
          "output_type": "stream",
          "text": [
            "1660 415 519\n"
          ],
          "name": "stdout"
        }
      ]
    },
    {
      "cell_type": "code",
      "metadata": {
        "id": "hD-fEldm1LeY",
        "outputId": "65b6a38d-e6e8-4635-8b30-779ad525c41d"
      },
      "source": [
        "training_data[:5]"
      ],
      "execution_count": null,
      "outputs": [
        {
          "output_type": "execute_result",
          "data": {
            "text/html": [
              "<div>\n",
              "<style scoped>\n",
              "    .dataframe tbody tr th:only-of-type {\n",
              "        vertical-align: middle;\n",
              "    }\n",
              "\n",
              "    .dataframe tbody tr th {\n",
              "        vertical-align: top;\n",
              "    }\n",
              "\n",
              "    .dataframe thead th {\n",
              "        text-align: right;\n",
              "    }\n",
              "</style>\n",
              "<table border=\"1\" class=\"dataframe\">\n",
              "  <thead>\n",
              "    <tr style=\"text-align: right;\">\n",
              "      <th></th>\n",
              "      <th>image_path</th>\n",
              "      <th>label_path</th>\n",
              "    </tr>\n",
              "  </thead>\n",
              "  <tbody>\n",
              "    <tr>\n",
              "      <th>871</th>\n",
              "      <td>ISIC_0010264.jpg</td>\n",
              "      <td>ISIC_0010264_segmentation.png</td>\n",
              "    </tr>\n",
              "    <tr>\n",
              "      <th>1301</th>\n",
              "      <td>ISIC_0012442.jpg</td>\n",
              "      <td>ISIC_0012442_segmentation.png</td>\n",
              "    </tr>\n",
              "    <tr>\n",
              "      <th>1312</th>\n",
              "      <td>ISIC_0012478.jpg</td>\n",
              "      <td>ISIC_0012478_segmentation.png</td>\n",
              "    </tr>\n",
              "    <tr>\n",
              "      <th>367</th>\n",
              "      <td>ISIC_0000448.jpg</td>\n",
              "      <td>ISIC_0000448_segmentation.png</td>\n",
              "    </tr>\n",
              "    <tr>\n",
              "      <th>1481</th>\n",
              "      <td>ISIC_0013012.jpg</td>\n",
              "      <td>ISIC_0013012_segmentation.png</td>\n",
              "    </tr>\n",
              "  </tbody>\n",
              "</table>\n",
              "</div>"
            ],
            "text/plain": [
              "            image_path                     label_path\n",
              "871   ISIC_0010264.jpg  ISIC_0010264_segmentation.png\n",
              "1301  ISIC_0012442.jpg  ISIC_0012442_segmentation.png\n",
              "1312  ISIC_0012478.jpg  ISIC_0012478_segmentation.png\n",
              "367   ISIC_0000448.jpg  ISIC_0000448_segmentation.png\n",
              "1481  ISIC_0013012.jpg  ISIC_0013012_segmentation.png"
            ]
          },
          "metadata": {
            "tags": []
          },
          "execution_count": 16
        }
      ]
    },
    {
      "cell_type": "code",
      "metadata": {
        "id": "xoyDRave1Leb",
        "outputId": "6fe68ed7-0acd-41f2-9f8d-faed2360d3e2"
      },
      "source": [
        "validation_data[:5]"
      ],
      "execution_count": null,
      "outputs": [
        {
          "output_type": "execute_result",
          "data": {
            "text/html": [
              "<div>\n",
              "<style scoped>\n",
              "    .dataframe tbody tr th:only-of-type {\n",
              "        vertical-align: middle;\n",
              "    }\n",
              "\n",
              "    .dataframe tbody tr th {\n",
              "        vertical-align: top;\n",
              "    }\n",
              "\n",
              "    .dataframe thead th {\n",
              "        text-align: right;\n",
              "    }\n",
              "</style>\n",
              "<table border=\"1\" class=\"dataframe\">\n",
              "  <thead>\n",
              "    <tr style=\"text-align: right;\">\n",
              "      <th></th>\n",
              "      <th>image_path</th>\n",
              "      <th>label_path</th>\n",
              "    </tr>\n",
              "  </thead>\n",
              "  <tbody>\n",
              "    <tr>\n",
              "      <th>1438</th>\n",
              "      <td>ISIC_0012880.jpg</td>\n",
              "      <td>ISIC_0012880_segmentation.png</td>\n",
              "    </tr>\n",
              "    <tr>\n",
              "      <th>838</th>\n",
              "      <td>ISIC_0010213.jpg</td>\n",
              "      <td>ISIC_0010213_segmentation.png</td>\n",
              "    </tr>\n",
              "    <tr>\n",
              "      <th>2208</th>\n",
              "      <td>ISIC_0014857.jpg</td>\n",
              "      <td>ISIC_0014857_segmentation.png</td>\n",
              "    </tr>\n",
              "    <tr>\n",
              "      <th>28</th>\n",
              "      <td>ISIC_0000031.jpg</td>\n",
              "      <td>ISIC_0000031_segmentation.png</td>\n",
              "    </tr>\n",
              "    <tr>\n",
              "      <th>947</th>\n",
              "      <td>ISIC_0010479.jpg</td>\n",
              "      <td>ISIC_0010479_segmentation.png</td>\n",
              "    </tr>\n",
              "  </tbody>\n",
              "</table>\n",
              "</div>"
            ],
            "text/plain": [
              "            image_path                     label_path\n",
              "1438  ISIC_0012880.jpg  ISIC_0012880_segmentation.png\n",
              "838   ISIC_0010213.jpg  ISIC_0010213_segmentation.png\n",
              "2208  ISIC_0014857.jpg  ISIC_0014857_segmentation.png\n",
              "28    ISIC_0000031.jpg  ISIC_0000031_segmentation.png\n",
              "947   ISIC_0010479.jpg  ISIC_0010479_segmentation.png"
            ]
          },
          "metadata": {
            "tags": []
          },
          "execution_count": 17
        }
      ]
    },
    {
      "cell_type": "code",
      "metadata": {
        "id": "mOVYC9Tt1Lee",
        "outputId": "a08fa1ab-2704-442f-8137-0d0f20d4357c"
      },
      "source": [
        "test_data[:5]"
      ],
      "execution_count": null,
      "outputs": [
        {
          "output_type": "execute_result",
          "data": {
            "text/html": [
              "<div>\n",
              "<style scoped>\n",
              "    .dataframe tbody tr th:only-of-type {\n",
              "        vertical-align: middle;\n",
              "    }\n",
              "\n",
              "    .dataframe tbody tr th {\n",
              "        vertical-align: top;\n",
              "    }\n",
              "\n",
              "    .dataframe thead th {\n",
              "        text-align: right;\n",
              "    }\n",
              "</style>\n",
              "<table border=\"1\" class=\"dataframe\">\n",
              "  <thead>\n",
              "    <tr style=\"text-align: right;\">\n",
              "      <th></th>\n",
              "      <th>image_path</th>\n",
              "      <th>label_path</th>\n",
              "    </tr>\n",
              "  </thead>\n",
              "  <tbody>\n",
              "    <tr>\n",
              "      <th>2317</th>\n",
              "      <td>ISIC_0015062.jpg</td>\n",
              "      <td>ISIC_0015062_segmentation.png</td>\n",
              "    </tr>\n",
              "    <tr>\n",
              "      <th>2040</th>\n",
              "      <td>ISIC_0014537.jpg</td>\n",
              "      <td>ISIC_0014537_segmentation.png</td>\n",
              "    </tr>\n",
              "    <tr>\n",
              "      <th>536</th>\n",
              "      <td>ISIC_0002879.jpg</td>\n",
              "      <td>ISIC_0002879_segmentation.png</td>\n",
              "    </tr>\n",
              "    <tr>\n",
              "      <th>1880</th>\n",
              "      <td>ISIC_0014013.jpg</td>\n",
              "      <td>ISIC_0014013_segmentation.png</td>\n",
              "    </tr>\n",
              "    <tr>\n",
              "      <th>1976</th>\n",
              "      <td>ISIC_0014328.jpg</td>\n",
              "      <td>ISIC_0014328_segmentation.png</td>\n",
              "    </tr>\n",
              "  </tbody>\n",
              "</table>\n",
              "</div>"
            ],
            "text/plain": [
              "            image_path                     label_path\n",
              "2317  ISIC_0015062.jpg  ISIC_0015062_segmentation.png\n",
              "2040  ISIC_0014537.jpg  ISIC_0014537_segmentation.png\n",
              "536   ISIC_0002879.jpg  ISIC_0002879_segmentation.png\n",
              "1880  ISIC_0014013.jpg  ISIC_0014013_segmentation.png\n",
              "1976  ISIC_0014328.jpg  ISIC_0014328_segmentation.png"
            ]
          },
          "metadata": {
            "tags": []
          },
          "execution_count": 18
        }
      ]
    },
    {
      "cell_type": "markdown",
      "metadata": {
        "id": "fbz5EzhW1Lei"
      },
      "source": [
        "## Data Generator"
      ]
    },
    {
      "cell_type": "code",
      "metadata": {
        "id": "7KafdKLM1Lej",
        "outputId": "57d06b28-c1a2-4bda-cc56-d904e11c0c4e"
      },
      "source": [
        "data_gen_args = dict(\n",
        "    rescale=1./255,\n",
        "    rotation_range=45,\n",
        "    width_shift_range=0.1,\n",
        "    height_shift_range=0.1,\n",
        "    zoom_range=0.2\n",
        ")\n",
        "\n",
        "\n",
        "image_datagen = ImageDataGenerator(**data_gen_args)\n",
        "mask_datagen = ImageDataGenerator(**data_gen_args)\n",
        "\n",
        "train_img_generator = image_datagen.flow_from_dataframe(\n",
        "    training_data, \n",
        "    directory = TRAIN_DATA_PATH + IMG_PATH,\n",
        "    x_col = \"image_path\", \n",
        "    class_mode=None,\n",
        "    color_mode = 'grayscale',\n",
        "    target_size = (IMG_HEIGHT, IMG_WIDTH),\n",
        "    batch_size = BATCH_SIZE,\n",
        "    seed=1\n",
        ")\n",
        "train_mask_generator = image_datagen.flow_from_dataframe(\n",
        "    training_data, \n",
        "    directory = TRAIN_DATA_PATH + SEG_PATH,\n",
        "    x_col = \"label_path\", \n",
        "    class_mode=None,\n",
        "    color_mode = 'grayscale',\n",
        "    target_size = (IMG_HEIGHT, IMG_WIDTH),\n",
        "    batch_size = BATCH_SIZE,\n",
        "    seed=1\n",
        ")\n",
        "\n",
        "val_img_generator = image_datagen.flow_from_dataframe(\n",
        "    validation_data, \n",
        "    directory = TRAIN_DATA_PATH + IMG_PATH,\n",
        "    x_col = \"image_path\", \n",
        "    class_mode=None,\n",
        "    color_mode = 'grayscale',\n",
        "    target_size = (IMG_HEIGHT, IMG_WIDTH),\n",
        "    batch_size = BATCH_SIZE,\n",
        "    seed=1\n",
        ")\n",
        "val_mask_generator = image_datagen.flow_from_dataframe(\n",
        "    validation_data, \n",
        "    directory = TRAIN_DATA_PATH + SEG_PATH,\n",
        "    x_col = \"label_path\", \n",
        "    class_mode=None,\n",
        "    color_mode = 'grayscale',\n",
        "    target_size = (IMG_HEIGHT, IMG_WIDTH),\n",
        "    batch_size = BATCH_SIZE,\n",
        "    seed=1\n",
        ")\n",
        "\n",
        "\n",
        "image_datagen = ImageDataGenerator(rescale=1./255)\n",
        "mask_datagen = ImageDataGenerator(rescale=1./255)\n",
        "\n",
        "test_img_generator = image_datagen.flow_from_dataframe(\n",
        "    test_data, \n",
        "    directory = TRAIN_DATA_PATH + IMG_PATH,\n",
        "    x_col = \"image_path\", \n",
        "    class_mode=None,\n",
        "    color_mode = 'grayscale',\n",
        "    target_size = (IMG_HEIGHT, IMG_WIDTH),\n",
        "    batch_size = BATCH_SIZE,\n",
        "    seed=1\n",
        ")\n",
        "test_mask_generator = image_datagen.flow_from_dataframe(\n",
        "    test_data, \n",
        "    directory = TRAIN_DATA_PATH + SEG_PATH,\n",
        "    x_col = \"label_path\", \n",
        "    class_mode=None,\n",
        "    color_mode = 'grayscale',\n",
        "    target_size = (IMG_HEIGHT, IMG_WIDTH),\n",
        "    batch_size = BATCH_SIZE,\n",
        "    seed=1\n",
        ")\n",
        "\n",
        "def maskGenerator(img_generator, mask_generator):\n",
        "    for (img,mask) in zip(img_generator, mask_generator):\n",
        "        mask = (mask > 0.5).astype(np.float32)\n",
        "        yield (img,mask)\n",
        "\n",
        "train_generator = maskGenerator(train_img_generator, train_mask_generator)\n",
        "val_generator = maskGenerator(val_img_generator, val_mask_generator)\n",
        "test_generator = maskGenerator(test_img_generator, test_mask_generator)"
      ],
      "execution_count": null,
      "outputs": [
        {
          "output_type": "stream",
          "text": [
            "Found 1660 validated image filenames.\n",
            "Found 1660 validated image filenames.\n",
            "Found 415 validated image filenames.\n",
            "Found 415 validated image filenames.\n",
            "Found 519 validated image filenames.\n",
            "Found 519 validated image filenames.\n"
          ],
          "name": "stdout"
        }
      ]
    },
    {
      "cell_type": "markdown",
      "metadata": {
        "id": "cpjmE_LS1Lem"
      },
      "source": [
        "## Training"
      ]
    },
    {
      "cell_type": "code",
      "metadata": {
        "id": "otTIU-ce1Lem",
        "outputId": "81eb6c36-8db4-4ff0-e7ab-885257d5d557"
      },
      "source": [
        "model_checkpoint = ModelCheckpoint('unet.hdf5', monitor='loss',verbose=1, save_best_only=True)\n",
        "model.fit(train_generator,\n",
        "          batch_size=BATCH_SIZE,\n",
        "          steps_per_epoch=400,\n",
        "          epochs=20,\n",
        "          callbacks=[model_checkpoint],\n",
        "          validation_data=val_generator,\n",
        "          validation_steps=400,\n",
        "          validation_batch_size=BATCH_SIZE)"
      ],
      "execution_count": null,
      "outputs": [
        {
          "output_type": "stream",
          "text": [
            "Epoch 1/20\n",
            "400/400 [==============================] - ETA: 0s - loss: 0.5160 - accuracy: 0.7006 - dice_coef: 0.4840\n",
            "Epoch 00001: loss improved from inf to 0.51597, saving model to unet.hdf5\n",
            "400/400 [==============================] - 106s 264ms/step - loss: 0.5160 - accuracy: 0.7006 - dice_coef: 0.4840 - val_loss: 0.3761 - val_accuracy: 0.8600 - val_dice_coef: 0.6237\n",
            "Epoch 2/20\n",
            "400/400 [==============================] - ETA: 0s - loss: 0.4213 - accuracy: 0.8166 - dice_coef: 0.5787\n",
            "Epoch 00002: loss improved from 0.51597 to 0.42126, saving model to unet.hdf5\n",
            "400/400 [==============================] - 102s 255ms/step - loss: 0.4213 - accuracy: 0.8166 - dice_coef: 0.5787 - val_loss: 0.4444 - val_accuracy: 0.8627 - val_dice_coef: 0.5552\n",
            "Epoch 3/20\n",
            "400/400 [==============================] - ETA: 0s - loss: 0.3548 - accuracy: 0.8699 - dice_coef: 0.6452\n",
            "Epoch 00003: loss improved from 0.42126 to 0.35475, saving model to unet.hdf5\n",
            "400/400 [==============================] - 103s 257ms/step - loss: 0.3548 - accuracy: 0.8699 - dice_coef: 0.6452 - val_loss: 0.3347 - val_accuracy: 0.8795 - val_dice_coef: 0.6656\n",
            "Epoch 4/20\n",
            "400/400 [==============================] - ETA: 0s - loss: 0.3468 - accuracy: 0.8583 - dice_coef: 0.6532\n",
            "Epoch 00004: loss improved from 0.35475 to 0.34676, saving model to unet.hdf5\n",
            "400/400 [==============================] - 103s 257ms/step - loss: 0.3468 - accuracy: 0.8583 - dice_coef: 0.6532 - val_loss: 0.3123 - val_accuracy: 0.8916 - val_dice_coef: 0.6878\n",
            "Epoch 5/20\n",
            "400/400 [==============================] - ETA: 0s - loss: 0.2852 - accuracy: 0.8834 - dice_coef: 0.7148\n",
            "Epoch 00005: loss improved from 0.34676 to 0.28516, saving model to unet.hdf5\n",
            "400/400 [==============================] - 107s 268ms/step - loss: 0.2852 - accuracy: 0.8834 - dice_coef: 0.7148 - val_loss: 0.3037 - val_accuracy: 0.8908 - val_dice_coef: 0.6965\n",
            "Epoch 6/20\n",
            "400/400 [==============================] - ETA: 0s - loss: 0.3041 - accuracy: 0.8896 - dice_coef: 0.6959\n",
            "Epoch 00006: loss did not improve from 0.28516\n",
            "400/400 [==============================] - 104s 261ms/step - loss: 0.3041 - accuracy: 0.8896 - dice_coef: 0.6959 - val_loss: 0.2930 - val_accuracy: 0.8938 - val_dice_coef: 0.7069\n",
            "Epoch 7/20\n",
            "400/400 [==============================] - ETA: 0s - loss: 0.2970 - accuracy: 0.8927 - dice_coef: 0.7030\n",
            "Epoch 00007: loss did not improve from 0.28516\n",
            "400/400 [==============================] - 105s 262ms/step - loss: 0.2970 - accuracy: 0.8927 - dice_coef: 0.7030 - val_loss: 0.3467 - val_accuracy: 0.8657 - val_dice_coef: 0.6531\n",
            "Epoch 8/20\n",
            "400/400 [==============================] - ETA: 0s - loss: 0.2721 - accuracy: 0.8984 - dice_coef: 0.7279\n",
            "Epoch 00008: loss improved from 0.28516 to 0.27207, saving model to unet.hdf5\n",
            "400/400 [==============================] - 105s 263ms/step - loss: 0.2721 - accuracy: 0.8984 - dice_coef: 0.7279 - val_loss: 0.3009 - val_accuracy: 0.8919 - val_dice_coef: 0.6991\n",
            "Epoch 9/20\n",
            "400/400 [==============================] - ETA: 0s - loss: 0.2460 - accuracy: 0.9115 - dice_coef: 0.7540\n",
            "Epoch 00009: loss improved from 0.27207 to 0.24596, saving model to unet.hdf5\n",
            "400/400 [==============================] - 107s 268ms/step - loss: 0.2460 - accuracy: 0.9115 - dice_coef: 0.7540 - val_loss: 0.2522 - val_accuracy: 0.9106 - val_dice_coef: 0.7481\n",
            "Epoch 10/20\n",
            "400/400 [==============================] - ETA: 0s - loss: 0.2573 - accuracy: 0.9031 - dice_coef: 0.7427\n",
            "Epoch 00010: loss did not improve from 0.24596\n",
            "400/400 [==============================] - 105s 263ms/step - loss: 0.2573 - accuracy: 0.9031 - dice_coef: 0.7427 - val_loss: 0.2775 - val_accuracy: 0.9008 - val_dice_coef: 0.7222\n",
            "Epoch 11/20\n",
            "400/400 [==============================] - ETA: 0s - loss: 0.2538 - accuracy: 0.9053 - dice_coef: 0.7462\n",
            "Epoch 00011: loss did not improve from 0.24596\n",
            "400/400 [==============================] - 105s 264ms/step - loss: 0.2538 - accuracy: 0.9053 - dice_coef: 0.7462 - val_loss: 0.2989 - val_accuracy: 0.9071 - val_dice_coef: 0.7014\n",
            "Epoch 12/20\n",
            "400/400 [==============================] - ETA: 0s - loss: 0.2466 - accuracy: 0.9064 - dice_coef: 0.7534\n",
            "Epoch 00012: loss did not improve from 0.24596\n",
            "400/400 [==============================] - 107s 267ms/step - loss: 0.2466 - accuracy: 0.9064 - dice_coef: 0.7534 - val_loss: 0.2357 - val_accuracy: 0.9158 - val_dice_coef: 0.7634\n",
            "Epoch 13/20\n",
            "400/400 [==============================] - ETA: 0s - loss: 0.2423 - accuracy: 0.9149 - dice_coef: 0.7577\n",
            "Epoch 00013: loss improved from 0.24596 to 0.24232, saving model to unet.hdf5\n",
            "400/400 [==============================] - 105s 262ms/step - loss: 0.2423 - accuracy: 0.9149 - dice_coef: 0.7577 - val_loss: 0.2447 - val_accuracy: 0.9160 - val_dice_coef: 0.7545\n",
            "Epoch 14/20\n",
            "400/400 [==============================] - ETA: 0s - loss: 0.2394 - accuracy: 0.9107 - dice_coef: 0.7606\n",
            "Epoch 00014: loss improved from 0.24232 to 0.23944, saving model to unet.hdf5\n",
            "400/400 [==============================] - 107s 267ms/step - loss: 0.2394 - accuracy: 0.9107 - dice_coef: 0.7606 - val_loss: 0.2354 - val_accuracy: 0.9163 - val_dice_coef: 0.7647\n",
            "Epoch 15/20\n",
            "400/400 [==============================] - ETA: 0s - loss: 0.2531 - accuracy: 0.9057 - dice_coef: 0.7469\n",
            "Epoch 00015: loss did not improve from 0.23944\n",
            "400/400 [==============================] - 108s 271ms/step - loss: 0.2531 - accuracy: 0.9057 - dice_coef: 0.7469 - val_loss: 0.2385 - val_accuracy: 0.9178 - val_dice_coef: 0.7617\n",
            "Epoch 16/20\n",
            "400/400 [==============================] - ETA: 0s - loss: 0.2265 - accuracy: 0.9169 - dice_coef: 0.7735\n",
            "Epoch 00016: loss improved from 0.23944 to 0.22648, saving model to unet.hdf5\n",
            "400/400 [==============================] - 107s 267ms/step - loss: 0.2265 - accuracy: 0.9169 - dice_coef: 0.7735 - val_loss: 0.2447 - val_accuracy: 0.9139 - val_dice_coef: 0.7549\n",
            "Epoch 17/20\n",
            "400/400 [==============================] - ETA: 0s - loss: 0.2305 - accuracy: 0.9130 - dice_coef: 0.7695\n",
            "Epoch 00017: loss did not improve from 0.22648\n",
            "400/400 [==============================] - 105s 261ms/step - loss: 0.2305 - accuracy: 0.9130 - dice_coef: 0.7695 - val_loss: 0.2359 - val_accuracy: 0.9158 - val_dice_coef: 0.7645\n",
            "Epoch 18/20\n",
            "400/400 [==============================] - ETA: 0s - loss: 0.2326 - accuracy: 0.9150 - dice_coef: 0.7674\n",
            "Epoch 00018: loss did not improve from 0.22648\n",
            "400/400 [==============================] - 107s 267ms/step - loss: 0.2326 - accuracy: 0.9150 - dice_coef: 0.7674 - val_loss: 0.2433 - val_accuracy: 0.9165 - val_dice_coef: 0.7559\n",
            "Epoch 19/20\n",
            "400/400 [==============================] - ETA: 0s - loss: 0.2231 - accuracy: 0.9210 - dice_coef: 0.7769\n",
            "Epoch 00019: loss improved from 0.22648 to 0.22314, saving model to unet.hdf5\n",
            "400/400 [==============================] - 107s 267ms/step - loss: 0.2231 - accuracy: 0.9210 - dice_coef: 0.7769 - val_loss: 0.2227 - val_accuracy: 0.9213 - val_dice_coef: 0.7776\n",
            "Epoch 20/20\n",
            "400/400 [==============================] - ETA: 0s - loss: 0.2238 - accuracy: 0.9191 - dice_coef: 0.7762\n",
            "Epoch 00020: loss did not improve from 0.22314\n",
            "400/400 [==============================] - 108s 269ms/step - loss: 0.2238 - accuracy: 0.9191 - dice_coef: 0.7762 - val_loss: 0.2371 - val_accuracy: 0.9195 - val_dice_coef: 0.7628\n"
          ],
          "name": "stdout"
        },
        {
          "output_type": "execute_result",
          "data": {
            "text/plain": [
              "<tensorflow.python.keras.callbacks.History at 0x1ee3d5f9d08>"
            ]
          },
          "metadata": {
            "tags": []
          },
          "execution_count": 20
        }
      ]
    },
    {
      "cell_type": "code",
      "metadata": {
        "id": "ALKrSe7t1Lep"
      },
      "source": [
        ""
      ],
      "execution_count": null,
      "outputs": []
    }
  ]
}